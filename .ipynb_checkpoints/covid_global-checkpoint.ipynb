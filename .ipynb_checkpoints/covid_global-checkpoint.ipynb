{
 "cells": [
  {
   "cell_type": "code",
   "execution_count": 16,
   "metadata": {},
   "outputs": [
    {
     "ename": "ModuleNotFoundError",
     "evalue": "No module named 'country_converter'",
     "output_type": "error",
     "traceback": [
      "\u001b[1;31m---------------------------------------------------------------------------\u001b[0m",
      "\u001b[1;31mModuleNotFoundError\u001b[0m                       Traceback (most recent call last)",
      "\u001b[1;32m<ipython-input-16-a11920b42907>\u001b[0m in \u001b[0;36m<module>\u001b[1;34m()\u001b[0m\n\u001b[0;32m      9\u001b[0m \u001b[1;32mimport\u001b[0m \u001b[0mre\u001b[0m\u001b[1;33m\u001b[0m\u001b[1;33m\u001b[0m\u001b[0m\n\u001b[0;32m     10\u001b[0m \u001b[1;32mfrom\u001b[0m \u001b[0mpprint\u001b[0m \u001b[1;32mimport\u001b[0m \u001b[0mpprint\u001b[0m\u001b[1;33m\u001b[0m\u001b[1;33m\u001b[0m\u001b[0m\n\u001b[1;32m---> 11\u001b[1;33m \u001b[1;32mimport\u001b[0m \u001b[0mcountry_converter\u001b[0m \u001b[1;32mas\u001b[0m \u001b[0mcoco\u001b[0m\u001b[1;33m\u001b[0m\u001b[1;33m\u001b[0m\u001b[0m\n\u001b[0m\u001b[0;32m     12\u001b[0m \u001b[1;32mimport\u001b[0m \u001b[0mdatetime\u001b[0m\u001b[1;33m\u001b[0m\u001b[1;33m\u001b[0m\u001b[0m\n\u001b[0;32m     13\u001b[0m \u001b[0mcc\u001b[0m \u001b[1;33m=\u001b[0m \u001b[0mcoco\u001b[0m\u001b[1;33m.\u001b[0m\u001b[0mCountryConverter\u001b[0m\u001b[1;33m(\u001b[0m\u001b[1;33m)\u001b[0m\u001b[1;33m\u001b[0m\u001b[1;33m\u001b[0m\u001b[0m\n",
      "\u001b[1;31mModuleNotFoundError\u001b[0m: No module named 'country_converter'"
     ]
    }
   ],
   "source": [
    "import matplotlib.pyplot as plt\n",
    "import pandas as pd\n",
    "import numpy as np\n",
    "import requests\n",
    "import time\n",
    "import json\n",
    "import scipy.stats as st\n",
    "from scipy.stats import linregress\n",
    "import re\n",
    "from pprint import pprint\n",
    "import country_converter as coco\n",
    "import datetime\n",
    "cc = coco.CountryConverter()"
   ]
  },
  {
   "cell_type": "code",
   "execution_count": 17,
   "metadata": {},
   "outputs": [],
   "source": [
    "countries = 'https://api.covid19api.com/countries'"
   ]
  },
  {
   "cell_type": "code",
   "execution_count": 18,
   "metadata": {},
   "outputs": [
    {
     "name": "stdout",
     "output_type": "stream",
     "text": [
      "[{'Country': 'Central African Republic',\n",
      "  'ISO2': 'CF',\n",
      "  'Slug': 'central-african-republic'},\n",
      " {'Country': 'Faroe Islands', 'ISO2': 'FO', 'Slug': 'faroe-islands'},\n",
      " {'Country': 'France', 'ISO2': 'FR', 'Slug': 'france'},\n",
      " {'Country': 'Nicaragua', 'ISO2': 'NI', 'Slug': 'nicaragua'},\n",
      " {'Country': 'India', 'ISO2': 'IN', 'Slug': 'india'},\n",
      " {'Country': 'Netherlands Antilles',\n",
      "  'ISO2': 'AN',\n",
      "  'Slug': 'netherlands-antilles'},\n",
      " {'Country': 'Pitcairn', 'ISO2': 'PN', 'Slug': 'pitcairn'},\n",
      " {'Country': 'French Polynesia', 'ISO2': 'PF', 'Slug': 'french-polynesia'},\n",
      " {'Country': 'Finland', 'ISO2': 'FI', 'Slug': 'finland'},\n",
      " {'Country': 'British Indian Ocean Territory',\n",
      "  'ISO2': 'IO',\n",
      "  'Slug': 'british-indian-ocean-territory'},\n",
      " {'Country': 'Anguilla', 'ISO2': 'AI', 'Slug': 'anguilla'},\n",
      " {'Country': 'Martinique', 'ISO2': 'MQ', 'Slug': 'martinique'},\n",
      " {'Country': 'Nauru', 'ISO2': 'NR', 'Slug': 'nauru'},\n",
      " {'Country': 'Cambodia', 'ISO2': 'KH', 'Slug': 'cambodia'},\n",
      " {'Country': 'Oman', 'ISO2': 'OM', 'Slug': 'oman'},\n",
      " {'Country': 'US Minor Outlying Islands',\n",
      "  'ISO2': 'UM',\n",
      "  'Slug': 'us-minor-outlying-islands'},\n",
      " {'Country': 'Greece', 'ISO2': 'GR', 'Slug': 'greece'},\n",
      " {'Country': 'Montenegro', 'ISO2': 'ME', 'Slug': 'montenegro'},\n",
      " {'Country': 'Myanmar', 'ISO2': 'MM', 'Slug': 'myanmar'},\n",
      " {'Country': 'Northern Mariana Islands',\n",
      "  'ISO2': 'MP',\n",
      "  'Slug': 'northern-mariana-islands'},\n",
      " {'Country': 'Saint Vincent and Grenadines',\n",
      "  'ISO2': 'VC',\n",
      "  'Slug': 'saint-vincent-and-the-grenadines'},\n",
      " {'Country': 'Kuwait', 'ISO2': 'KW', 'Slug': 'kuwait'},\n",
      " {'Country': 'Réunion', 'ISO2': 'RE', 'Slug': 'réunion'},\n",
      " {'Country': 'Turks and Caicos Islands',\n",
      "  'ISO2': 'TC',\n",
      "  'Slug': 'turks-and-caicos-islands'},\n",
      " {'Country': 'Sri Lanka', 'ISO2': 'LK', 'Slug': 'sri-lanka'},\n",
      " {'Country': 'Morocco', 'ISO2': 'MA', 'Slug': 'morocco'},\n",
      " {'Country': 'Christmas Island', 'ISO2': 'CX', 'Slug': 'christmas-island'},\n",
      " {'Country': 'Mozambique', 'ISO2': 'MZ', 'Slug': 'mozambique'},\n",
      " {'Country': 'Panama', 'ISO2': 'PA', 'Slug': 'panama'},\n",
      " {'Country': 'Cape Verde', 'ISO2': 'CV', 'Slug': 'cape-verde'},\n",
      " {'Country': 'Dominican Republic', 'ISO2': 'DO', 'Slug': 'dominican-republic'},\n",
      " {'Country': 'Madagascar', 'ISO2': 'MG', 'Slug': 'madagascar'},\n",
      " {'Country': 'Mali', 'ISO2': 'ML', 'Slug': 'mali'},\n",
      " {'Country': 'Saint Helena', 'ISO2': 'SH', 'Slug': 'saint-helena'},\n",
      " {'Country': 'San Marino', 'ISO2': 'SM', 'Slug': 'san-marino'},\n",
      " {'Country': 'Republic of Kosovo', 'ISO2': 'XK', 'Slug': 'kosovo'},\n",
      " {'Country': 'British Virgin Islands',\n",
      "  'ISO2': 'VG',\n",
      "  'Slug': 'british-virgin-islands'},\n",
      " {'Country': 'Togo', 'ISO2': 'TG', 'Slug': 'togo'},\n",
      " {'Country': 'Indonesia', 'ISO2': 'ID', 'Slug': 'indonesia'},\n",
      " {'Country': 'Iraq', 'ISO2': 'IQ', 'Slug': 'iraq'},\n",
      " {'Country': 'Saudi Arabia', 'ISO2': 'SA', 'Slug': 'saudi-arabia'},\n",
      " {'Country': 'Syrian Arab Republic (Syria)', 'ISO2': 'SY', 'Slug': 'syria'},\n",
      " {'Country': 'Colombia', 'ISO2': 'CO', 'Slug': 'colombia'},\n",
      " {'Country': 'Bangladesh', 'ISO2': 'BD', 'Slug': 'bangladesh'},\n",
      " {'Country': 'Congo (Brazzaville)', 'ISO2': 'CG', 'Slug': 'congo-brazzaville'},\n",
      " {'Country': 'El Salvador', 'ISO2': 'SV', 'Slug': 'el-salvador'},\n",
      " {'Country': 'Kiribati', 'ISO2': 'KI', 'Slug': 'kiribati'},\n",
      " {'Country': 'Mauritius', 'ISO2': 'MU', 'Slug': 'mauritius'},\n",
      " {'Country': 'Nigeria', 'ISO2': 'NG', 'Slug': 'nigeria'},\n",
      " {'Country': 'Paraguay', 'ISO2': 'PY', 'Slug': 'paraguay'},\n",
      " {'Country': 'American Samoa', 'ISO2': 'AS', 'Slug': 'american-samoa'},\n",
      " {'Country': 'Qatar', 'ISO2': 'QA', 'Slug': 'qatar'},\n",
      " {'Country': 'South Georgia and the South Sandwich Islands',\n",
      "  'ISO2': 'GS',\n",
      "  'Slug': 'south-georgia-and-the-south-sandwich-islands'},\n",
      " {'Country': 'Trinidad and Tobago',\n",
      "  'ISO2': 'TT',\n",
      "  'Slug': 'trinidad-and-tobago'},\n",
      " {'Country': 'Peru', 'ISO2': 'PE', 'Slug': 'peru'},\n",
      " {'Country': 'Aruba', 'ISO2': 'AW', 'Slug': 'aruba'},\n",
      " {'Country': 'Cuba', 'ISO2': 'CU', 'Slug': 'cuba'},\n",
      " {'Country': 'Egypt', 'ISO2': 'EG', 'Slug': 'egypt'},\n",
      " {'Country': 'Malawi', 'ISO2': 'MW', 'Slug': 'malawi'},\n",
      " {'Country': 'Mauritania', 'ISO2': 'MR', 'Slug': 'mauritania'},\n",
      " {'Country': 'Nepal', 'ISO2': 'NP', 'Slug': 'nepal'},\n",
      " {'Country': 'Taiwan, Republic of China', 'ISO2': 'TW', 'Slug': 'taiwan'},\n",
      " {'Country': 'Israel', 'ISO2': 'IL', 'Slug': 'israel'},\n",
      " {'Country': 'Libya', 'ISO2': 'LY', 'Slug': 'libya'},\n",
      " {'Country': 'Antigua and Barbuda',\n",
      "  'ISO2': 'AG',\n",
      "  'Slug': 'antigua-and-barbuda'},\n",
      " {'Country': 'Heard and Mcdonald Islands',\n",
      "  'ISO2': 'HM',\n",
      "  'Slug': 'heard-and-mcdonald-islands'},\n",
      " {'Country': 'Luxembourg', 'ISO2': 'LU', 'Slug': 'luxembourg'},\n",
      " {'Country': 'Pakistan', 'ISO2': 'PK', 'Slug': 'pakistan'},\n",
      " {'Country': 'Palestinian Territory', 'ISO2': 'PS', 'Slug': 'palestine'},\n",
      " {'Country': 'Serbia', 'ISO2': 'RS', 'Slug': 'serbia'},\n",
      " {'Country': 'Sweden', 'ISO2': 'SE', 'Slug': 'sweden'},\n",
      " {'Country': 'Timor-Leste', 'ISO2': 'TL', 'Slug': 'timor-leste'},\n",
      " {'Country': 'South Sudan', 'ISO2': 'SS', 'Slug': 'south-sudan'},\n",
      " {'Country': 'Montserrat', 'ISO2': 'MS', 'Slug': 'montserrat'},\n",
      " {'Country': 'Congo (Kinshasa)', 'ISO2': 'CD', 'Slug': 'congo-kinshasa'},\n",
      " {'Country': 'Malaysia', 'ISO2': 'MY', 'Slug': 'malaysia'},\n",
      " {'Country': 'Russian Federation', 'ISO2': 'RU', 'Slug': 'russia'},\n",
      " {'Country': 'Solomon Islands', 'ISO2': 'SB', 'Slug': 'solomon-islands'},\n",
      " {'Country': 'Sudan', 'ISO2': 'SD', 'Slug': 'sudan'},\n",
      " {'Country': 'Turkey', 'ISO2': 'TR', 'Slug': 'turkey'},\n",
      " {'Country': 'Cook Islands', 'ISO2': 'CK', 'Slug': 'cook-islands'},\n",
      " {'Country': 'Sao Tome and Principe',\n",
      "  'ISO2': 'ST',\n",
      "  'Slug': 'sao-tome-and-principe'},\n",
      " {'Country': 'Singapore', 'ISO2': 'SG', 'Slug': 'singapore'},\n",
      " {'Country': 'Vanuatu', 'ISO2': 'VU', 'Slug': 'vanuatu'},\n",
      " {'Country': 'Lesotho', 'ISO2': 'LS', 'Slug': 'lesotho'},\n",
      " {'Country': 'Estonia', 'ISO2': 'EE', 'Slug': 'estonia'},\n",
      " {'Country': 'Jersey', 'ISO2': 'JE', 'Slug': 'jersey'},\n",
      " {'Country': 'Djibouti', 'ISO2': 'DJ', 'Slug': 'djibouti'},\n",
      " {'Country': 'Equatorial Guinea', 'ISO2': 'GQ', 'Slug': 'equatorial-guinea'},\n",
      " {'Country': 'Tokelau', 'ISO2': 'TK', 'Slug': 'tokelau'},\n",
      " {'Country': 'Ecuador', 'ISO2': 'EC', 'Slug': 'ecuador'},\n",
      " {'Country': 'Falkland Islands (Malvinas)',\n",
      "  'ISO2': 'FK',\n",
      "  'Slug': 'falkland-islands-malvinas'},\n",
      " {'Country': 'Tanzania, United Republic of', 'ISO2': 'TZ', 'Slug': 'tanzania'},\n",
      " {'Country': 'Uzbekistan', 'ISO2': 'UZ', 'Slug': 'uzbekistan'},\n",
      " {'Country': 'Lao PDR', 'ISO2': 'LA', 'Slug': 'lao-pdr'},\n",
      " {'Country': 'Brunei Darussalam', 'ISO2': 'BN', 'Slug': 'brunei'},\n",
      " {'Country': 'Hungary', 'ISO2': 'HU', 'Slug': 'hungary'},\n",
      " {'Country': 'Marshall Islands', 'ISO2': 'MH', 'Slug': 'marshall-islands'},\n",
      " {'Country': 'Holy See (Vatican City State)',\n",
      "  'ISO2': 'VA',\n",
      "  'Slug': 'holy-see-vatican-city-state'},\n",
      " {'Country': 'Lebanon', 'ISO2': 'LB', 'Slug': 'lebanon'},\n",
      " {'Country': 'Norway', 'ISO2': 'NO', 'Slug': 'norway'},\n",
      " {'Country': 'Bulgaria', 'ISO2': 'BG', 'Slug': 'bulgaria'},\n",
      " {'Country': 'Honduras', 'ISO2': 'HN', 'Slug': 'honduras'},\n",
      " {'Country': 'Jamaica', 'ISO2': 'JM', 'Slug': 'jamaica'},\n",
      " {'Country': 'Poland', 'ISO2': 'PL', 'Slug': 'poland'},\n",
      " {'Country': 'Turkmenistan', 'ISO2': 'TM', 'Slug': 'turkmenistan'},\n",
      " {'Country': 'Cocos (Keeling) Islands',\n",
      "  'ISO2': 'CC',\n",
      "  'Slug': 'cocos-keeling-islands'},\n",
      " {'Country': 'Korea (North)', 'ISO2': 'KP', 'Slug': 'korea-north'},\n",
      " {'Country': 'Sierra Leone', 'ISO2': 'SL', 'Slug': 'sierra-leone'},\n",
      " {'Country': 'Bosnia and Herzegovina',\n",
      "  'ISO2': 'BA',\n",
      "  'Slug': 'bosnia-and-herzegovina'},\n",
      " {'Country': 'ALA Aland Islands', 'ISO2': 'AX', 'Slug': 'ala-aland-islands'},\n",
      " {'Country': 'Australia', 'ISO2': 'AU', 'Slug': 'australia'},\n",
      " {'Country': 'Uruguay', 'ISO2': 'UY', 'Slug': 'uruguay'},\n",
      " {'Country': 'Kenya', 'ISO2': 'KE', 'Slug': 'kenya'},\n",
      " {'Country': 'Liberia', 'ISO2': 'LR', 'Slug': 'liberia'},\n",
      " {'Country': 'Saint Lucia', 'ISO2': 'LC', 'Slug': 'saint-lucia'},\n",
      " {'Country': 'Tuvalu', 'ISO2': 'TV', 'Slug': 'tuvalu'},\n",
      " {'Country': 'Virgin Islands, US', 'ISO2': 'VI', 'Slug': 'virgin-islands'},\n",
      " {'Country': 'Albania', 'ISO2': 'AL', 'Slug': 'albania'},\n",
      " {'Country': 'Andorra', 'ISO2': 'AD', 'Slug': 'andorra'},\n",
      " {'Country': 'Kazakhstan', 'ISO2': 'KZ', 'Slug': 'kazakhstan'},\n",
      " {'Country': 'Netherlands', 'ISO2': 'NL', 'Slug': 'netherlands'},\n",
      " {'Country': 'Iran, Islamic Republic of', 'ISO2': 'IR', 'Slug': 'iran'},\n",
      " {'Country': 'Somalia', 'ISO2': 'SO', 'Slug': 'somalia'},\n",
      " {'Country': 'Hong Kong, SAR China',\n",
      "  'ISO2': 'HK',\n",
      "  'Slug': 'hong-kong-sar-china'},\n",
      " {'Country': \"Côte d'Ivoire\", 'ISO2': 'CI', 'Slug': 'cote-divoire'},\n",
      " {'Country': 'Swaziland', 'ISO2': 'SZ', 'Slug': 'swaziland'},\n",
      " {'Country': 'Bolivia', 'ISO2': 'BO', 'Slug': 'bolivia'},\n",
      " {'Country': 'Bermuda', 'ISO2': 'BM', 'Slug': 'bermuda'},\n",
      " {'Country': 'Svalbard and Jan Mayen Islands',\n",
      "  'ISO2': 'SJ',\n",
      "  'Slug': 'svalbard-and-jan-mayen-islands'},\n",
      " {'Country': 'Thailand', 'ISO2': 'TH', 'Slug': 'thailand'},\n",
      " {'Country': 'Benin', 'ISO2': 'BJ', 'Slug': 'benin'},\n",
      " {'Country': 'Antarctica', 'ISO2': 'AQ', 'Slug': 'antarctica'},\n",
      " {'Country': 'Burkina Faso', 'ISO2': 'BF', 'Slug': 'burkina-faso'},\n",
      " {'Country': 'Seychelles', 'ISO2': 'SC', 'Slug': 'seychelles'},\n",
      " {'Country': 'Venezuela (Bolivarian Republic)',\n",
      "  'ISO2': 'VE',\n",
      "  'Slug': 'venezuela'},\n",
      " {'Country': 'Zambia', 'ISO2': 'ZM', 'Slug': 'zambia'},\n",
      " {'Country': 'Germany', 'ISO2': 'DE', 'Slug': 'germany'},\n",
      " {'Country': 'Kyrgyzstan', 'ISO2': 'KG', 'Slug': 'kyrgyzstan'},\n",
      " {'Country': 'Saint Pierre and Miquelon',\n",
      "  'ISO2': 'PM',\n",
      "  'Slug': 'saint-pierre-and-miquelon'},\n",
      " {'Country': 'Slovenia', 'ISO2': 'SI', 'Slug': 'slovenia'},\n",
      " {'Country': 'United Kingdom', 'ISO2': 'GB', 'Slug': 'united-kingdom'},\n",
      " {'Country': 'Belgium', 'ISO2': 'BE', 'Slug': 'belgium'},\n",
      " {'Country': 'Eritrea', 'ISO2': 'ER', 'Slug': 'eritrea'},\n",
      " {'Country': 'Italy', 'ISO2': 'IT', 'Slug': 'italy'},\n",
      " {'Country': 'Namibia', 'ISO2': 'NA', 'Slug': 'namibia'},\n",
      " {'Country': 'United States of America', 'ISO2': 'US', 'Slug': 'united-states'},\n",
      " {'Country': 'Argentina', 'ISO2': 'AR', 'Slug': 'argentina'},\n",
      " {'Country': 'Barbados', 'ISO2': 'BB', 'Slug': 'barbados'},\n",
      " {'Country': 'Samoa', 'ISO2': 'WS', 'Slug': 'samoa'},\n",
      " {'Country': 'Uganda', 'ISO2': 'UG', 'Slug': 'uganda'},\n",
      " {'Country': 'Viet Nam', 'ISO2': 'VN', 'Slug': 'vietnam'},\n",
      " {'Country': 'Norfolk Island', 'ISO2': 'NF', 'Slug': 'norfolk-island'},\n",
      " {'Country': 'Puerto Rico', 'ISO2': 'PR', 'Slug': 'puerto-rico'},\n",
      " {'Country': 'Zimbabwe', 'ISO2': 'ZW', 'Slug': 'zimbabwe'},\n",
      " {'Country': 'Gabon', 'ISO2': 'GA', 'Slug': 'gabon'},\n",
      " {'Country': 'Guam', 'ISO2': 'GU', 'Slug': 'guam'},\n",
      " {'Country': 'Guinea-Bissau', 'ISO2': 'GW', 'Slug': 'guinea-bissau'},\n",
      " {'Country': 'Korea (South)', 'ISO2': 'KR', 'Slug': 'korea-south'},\n",
      " {'Country': 'Botswana', 'ISO2': 'BW', 'Slug': 'botswana'},\n",
      " {'Country': 'Burundi', 'ISO2': 'BI', 'Slug': 'burundi'},\n",
      " {'Country': 'Micronesia, Federated States of',\n",
      "  'ISO2': 'FM',\n",
      "  'Slug': 'micronesia'},\n",
      " {'Country': 'Armenia', 'ISO2': 'AM', 'Slug': 'armenia'},\n",
      " {'Country': 'Denmark', 'ISO2': 'DK', 'Slug': 'denmark'},\n",
      " {'Country': 'Afghanistan', 'ISO2': 'AF', 'Slug': 'afghanistan'},\n",
      " {'Country': 'Cayman Islands', 'ISO2': 'KY', 'Slug': 'cayman-islands'},\n",
      " {'Country': 'Chile', 'ISO2': 'CL', 'Slug': 'chile'},\n",
      " {'Country': 'Guadeloupe', 'ISO2': 'GP', 'Slug': 'guadeloupe'},\n",
      " {'Country': 'Spain', 'ISO2': 'ES', 'Slug': 'spain'},\n",
      " {'Country': 'Bouvet Island', 'ISO2': 'BV', 'Slug': 'bouvet-island'},\n",
      " {'Country': 'Chad', 'ISO2': 'TD', 'Slug': 'chad'},\n",
      " {'Country': 'New Zealand', 'ISO2': 'NZ', 'Slug': 'new-zealand'},\n",
      " {'Country': 'Niger', 'ISO2': 'NE', 'Slug': 'niger'},\n",
      " {'Country': 'Niue', 'ISO2': 'NU', 'Slug': 'niue'},\n",
      " {'Country': 'Switzerland', 'ISO2': 'CH', 'Slug': 'switzerland'},\n",
      " {'Country': 'Tonga', 'ISO2': 'TO', 'Slug': 'tonga'},\n",
      " {'Country': 'Cyprus', 'ISO2': 'CY', 'Slug': 'cyprus'},\n",
      " {'Country': 'Gibraltar', 'ISO2': 'GI', 'Slug': 'gibraltar'},\n",
      " {'Country': 'Japan', 'ISO2': 'JP', 'Slug': 'japan'},\n",
      " {'Country': 'Mayotte', 'ISO2': 'YT', 'Slug': 'mayotte'},\n",
      " {'Country': 'French Southern Territories',\n",
      "  'ISO2': 'TF',\n",
      "  'Slug': 'french-southern-territories'},\n",
      " {'Country': 'Greenland', 'ISO2': 'GL', 'Slug': 'greenland'},\n",
      " {'Country': 'Jordan', 'ISO2': 'JO', 'Slug': 'jordan'},\n",
      " {'Country': 'Ethiopia', 'ISO2': 'ET', 'Slug': 'ethiopia'},\n",
      " {'Country': 'Rwanda', 'ISO2': 'RW', 'Slug': 'rwanda'},\n",
      " {'Country': 'Cameroon', 'ISO2': 'CM', 'Slug': 'cameroon'},\n",
      " {'Country': 'Algeria', 'ISO2': 'DZ', 'Slug': 'algeria'},\n",
      " {'Country': 'Bahamas', 'ISO2': 'BS', 'Slug': 'bahamas'},\n",
      " {'Country': 'Lithuania', 'ISO2': 'LT', 'Slug': 'lithuania'},\n",
      " {'Country': 'Mongolia', 'ISO2': 'MN', 'Slug': 'mongolia'},\n",
      " {'Country': 'Saint-Barthélemy', 'ISO2': 'BL', 'Slug': 'saint-barthélemy'},\n",
      " {'Country': 'Angola', 'ISO2': 'AO', 'Slug': 'angola'},\n",
      " {'Country': 'China', 'ISO2': 'CN', 'Slug': 'china'},\n",
      " {'Country': 'Latvia', 'ISO2': 'LV', 'Slug': 'latvia'},\n",
      " {'Country': 'Tajikistan', 'ISO2': 'TJ', 'Slug': 'tajikistan'},\n",
      " {'Country': 'Wallis and Futuna Islands',\n",
      "  'ISO2': 'WF',\n",
      "  'Slug': 'wallis-and-futuna-islands'},\n",
      " {'Country': 'Croatia', 'ISO2': 'HR', 'Slug': 'croatia'},\n",
      " {'Country': 'Czech Republic', 'ISO2': 'CZ', 'Slug': 'czech-republic'},\n",
      " {'Country': 'Saint Kitts and Nevis',\n",
      "  'ISO2': 'KN',\n",
      "  'Slug': 'saint-kitts-and-nevis'},\n",
      " {'Country': 'Tunisia', 'ISO2': 'TN', 'Slug': 'tunisia'},\n",
      " {'Country': 'United Arab Emirates',\n",
      "  'ISO2': 'AE',\n",
      "  'Slug': 'united-arab-emirates'},\n",
      " {'Country': 'Canada', 'ISO2': 'CA', 'Slug': 'canada'},\n",
      " {'Country': 'Guatemala', 'ISO2': 'GT', 'Slug': 'guatemala'},\n",
      " {'Country': 'Bahrain', 'ISO2': 'BH', 'Slug': 'bahrain'},\n",
      " {'Country': 'Gambia', 'ISO2': 'GM', 'Slug': 'gambia'},\n",
      " {'Country': 'Grenada', 'ISO2': 'GD', 'Slug': 'grenada'},\n",
      " {'Country': 'Macedonia, Republic of', 'ISO2': 'MK', 'Slug': 'macedonia'},\n",
      " {'Country': 'Romania', 'ISO2': 'RO', 'Slug': 'romania'},\n",
      " {'Country': 'Suriname', 'ISO2': 'SR', 'Slug': 'suriname'},\n",
      " {'Country': 'Costa Rica', 'ISO2': 'CR', 'Slug': 'costa-rica'},\n",
      " {'Country': 'Azerbaijan', 'ISO2': 'AZ', 'Slug': 'azerbaijan'},\n",
      " {'Country': 'Belize', 'ISO2': 'BZ', 'Slug': 'belize'},\n",
      " {'Country': 'Moldova', 'ISO2': 'MD', 'Slug': 'moldova'},\n",
      " {'Country': 'Portugal', 'ISO2': 'PT', 'Slug': 'portugal'},\n",
      " {'Country': 'Ukraine', 'ISO2': 'UA', 'Slug': 'ukraine'},\n",
      " {'Country': 'Macao, SAR China', 'ISO2': 'MO', 'Slug': 'macao-sar-china'},\n",
      " {'Country': 'South Africa', 'ISO2': 'ZA', 'Slug': 'south-africa'},\n",
      " {'Country': 'Palau', 'ISO2': 'PW', 'Slug': 'palau'},\n",
      " {'Country': 'Malta', 'ISO2': 'MT', 'Slug': 'malta'},\n",
      " {'Country': 'Papua New Guinea', 'ISO2': 'PG', 'Slug': 'papua-new-guinea'},\n",
      " {'Country': 'Isle of Man', 'ISO2': 'IM', 'Slug': 'isle-of-man'},\n",
      " {'Country': 'Bhutan', 'ISO2': 'BT', 'Slug': 'bhutan'},\n",
      " {'Country': 'Iceland', 'ISO2': 'IS', 'Slug': 'iceland'},\n",
      " {'Country': 'Ireland', 'ISO2': 'IE', 'Slug': 'ireland'},\n",
      " {'Country': 'Slovakia', 'ISO2': 'SK', 'Slug': 'slovakia'},\n",
      " {'Country': 'Belarus', 'ISO2': 'BY', 'Slug': 'belarus'},\n",
      " {'Country': 'Comoros', 'ISO2': 'KM', 'Slug': 'comoros'},\n",
      " {'Country': 'French Guiana', 'ISO2': 'GF', 'Slug': 'french-guiana'},\n",
      " {'Country': 'Guernsey', 'ISO2': 'GG', 'Slug': 'guernsey'},\n",
      " {'Country': 'Monaco', 'ISO2': 'MC', 'Slug': 'monaco'},\n",
      " {'Country': 'Liechtenstein', 'ISO2': 'LI', 'Slug': 'liechtenstein'},\n",
      " {'Country': 'Saint-Martin (French part)',\n",
      "  'ISO2': 'MF',\n",
      "  'Slug': 'saint-martin-french-part'},\n",
      " {'Country': 'Senegal', 'ISO2': 'SN', 'Slug': 'senegal'},\n",
      " {'Country': 'Brazil', 'ISO2': 'BR', 'Slug': 'brazil'},\n",
      " {'Country': 'Dominica', 'ISO2': 'DM', 'Slug': 'dominica'},\n",
      " {'Country': 'Fiji', 'ISO2': 'FJ', 'Slug': 'fiji'},\n",
      " {'Country': 'Maldives', 'ISO2': 'MV', 'Slug': 'maldives'},\n",
      " {'Country': 'Ghana', 'ISO2': 'GH', 'Slug': 'ghana'},\n",
      " {'Country': 'Guinea', 'ISO2': 'GN', 'Slug': 'guinea'},\n",
      " {'Country': 'Mexico', 'ISO2': 'MX', 'Slug': 'mexico'},\n",
      " {'Country': 'Guyana', 'ISO2': 'GY', 'Slug': 'guyana'},\n",
      " {'Country': 'Georgia', 'ISO2': 'GE', 'Slug': 'georgia'},\n",
      " {'Country': 'New Caledonia', 'ISO2': 'NC', 'Slug': 'new-caledonia'},\n",
      " {'Country': 'Austria', 'ISO2': 'AT', 'Slug': 'austria'},\n",
      " {'Country': 'Philippines', 'ISO2': 'PH', 'Slug': 'philippines'},\n",
      " {'Country': 'Western Sahara', 'ISO2': 'EH', 'Slug': 'western-sahara'},\n",
      " {'Country': 'Yemen', 'ISO2': 'YE', 'Slug': 'yemen'},\n",
      " {'Country': 'Haiti', 'ISO2': 'HT', 'Slug': 'haiti'}]\n"
     ]
    }
   ],
   "source": [
    "response_countries = requests.get(countries).json()\n",
    "pprint(response_countries)"
   ]
  },
  {
   "cell_type": "code",
   "execution_count": 19,
   "metadata": {},
   "outputs": [
    {
     "data": {
      "text/plain": [
       "248"
      ]
     },
     "execution_count": 19,
     "metadata": {},
     "output_type": "execute_result"
    }
   ],
   "source": [
    "len(response_countries)"
   ]
  },
  {
   "cell_type": "code",
   "execution_count": 20,
   "metadata": {},
   "outputs": [
    {
     "data": {
      "text/html": [
       "<div>\n",
       "<style scoped>\n",
       "    .dataframe tbody tr th:only-of-type {\n",
       "        vertical-align: middle;\n",
       "    }\n",
       "\n",
       "    .dataframe tbody tr th {\n",
       "        vertical-align: top;\n",
       "    }\n",
       "\n",
       "    .dataframe thead th {\n",
       "        text-align: right;\n",
       "    }\n",
       "</style>\n",
       "<table border=\"1\" class=\"dataframe\">\n",
       "  <thead>\n",
       "    <tr style=\"text-align: right;\">\n",
       "      <th></th>\n",
       "      <th>Entity</th>\n",
       "      <th>slug</th>\n",
       "      <th>ISO2</th>\n",
       "    </tr>\n",
       "  </thead>\n",
       "  <tbody>\n",
       "    <tr>\n",
       "      <th>0</th>\n",
       "      <td>Central African Republic</td>\n",
       "      <td>central-african-republic</td>\n",
       "      <td>CF</td>\n",
       "    </tr>\n",
       "    <tr>\n",
       "      <th>1</th>\n",
       "      <td>Faroe Islands</td>\n",
       "      <td>faroe-islands</td>\n",
       "      <td>FO</td>\n",
       "    </tr>\n",
       "    <tr>\n",
       "      <th>2</th>\n",
       "      <td>France</td>\n",
       "      <td>france</td>\n",
       "      <td>FR</td>\n",
       "    </tr>\n",
       "    <tr>\n",
       "      <th>3</th>\n",
       "      <td>Nicaragua</td>\n",
       "      <td>nicaragua</td>\n",
       "      <td>NI</td>\n",
       "    </tr>\n",
       "    <tr>\n",
       "      <th>4</th>\n",
       "      <td>India</td>\n",
       "      <td>india</td>\n",
       "      <td>IN</td>\n",
       "    </tr>\n",
       "  </tbody>\n",
       "</table>\n",
       "</div>"
      ],
      "text/plain": [
       "                     Entity                      slug ISO2\n",
       "0  Central African Republic  central-african-republic   CF\n",
       "1             Faroe Islands             faroe-islands   FO\n",
       "2                    France                    france   FR\n",
       "3                 Nicaragua                 nicaragua   NI\n",
       "4                     India                     india   IN"
      ]
     },
     "execution_count": 20,
     "metadata": {},
     "output_type": "execute_result"
    }
   ],
   "source": [
    "name = []\n",
    "slug = []\n",
    "ISO2 = []\n",
    "for i in range(len(response_countries)):\n",
    "    name.append(response_countries[i][\"Country\"])\n",
    "    slug.append(response_countries[i][\"Slug\"])\n",
    "    ISO2.append(response_countries[i][\"ISO2\"])\n",
    "\n",
    "countries_slug_df = pd.DataFrame({\"Entity\": name,\n",
    "                                 \"slug\": slug,\n",
    "                                 \"ISO2\": ISO2})\n",
    "countries_slug_df.head()"
   ]
  },
  {
   "cell_type": "code",
   "execution_count": 21,
   "metadata": {},
   "outputs": [
    {
     "data": {
      "text/html": [
       "<div>\n",
       "<style scoped>\n",
       "    .dataframe tbody tr th:only-of-type {\n",
       "        vertical-align: middle;\n",
       "    }\n",
       "\n",
       "    .dataframe tbody tr th {\n",
       "        vertical-align: top;\n",
       "    }\n",
       "\n",
       "    .dataframe thead th {\n",
       "        text-align: right;\n",
       "    }\n",
       "</style>\n",
       "<table border=\"1\" class=\"dataframe\">\n",
       "  <thead>\n",
       "    <tr style=\"text-align: right;\">\n",
       "      <th></th>\n",
       "      <th>Entity</th>\n",
       "      <th>slug</th>\n",
       "      <th>ISO2</th>\n",
       "    </tr>\n",
       "  </thead>\n",
       "  <tbody>\n",
       "    <tr>\n",
       "      <th>0</th>\n",
       "      <td>ALA Aland Islands</td>\n",
       "      <td>ala-aland-islands</td>\n",
       "      <td>AX</td>\n",
       "    </tr>\n",
       "    <tr>\n",
       "      <th>1</th>\n",
       "      <td>Afghanistan</td>\n",
       "      <td>afghanistan</td>\n",
       "      <td>AF</td>\n",
       "    </tr>\n",
       "    <tr>\n",
       "      <th>2</th>\n",
       "      <td>Albania</td>\n",
       "      <td>albania</td>\n",
       "      <td>AL</td>\n",
       "    </tr>\n",
       "    <tr>\n",
       "      <th>3</th>\n",
       "      <td>Algeria</td>\n",
       "      <td>algeria</td>\n",
       "      <td>DZ</td>\n",
       "    </tr>\n",
       "    <tr>\n",
       "      <th>4</th>\n",
       "      <td>American Samoa</td>\n",
       "      <td>american-samoa</td>\n",
       "      <td>AS</td>\n",
       "    </tr>\n",
       "  </tbody>\n",
       "</table>\n",
       "</div>"
      ],
      "text/plain": [
       "              Entity               slug ISO2\n",
       "0  ALA Aland Islands  ala-aland-islands   AX\n",
       "1        Afghanistan        afghanistan   AF\n",
       "2            Albania            albania   AL\n",
       "3            Algeria            algeria   DZ\n",
       "4     American Samoa     american-samoa   AS"
      ]
     },
     "execution_count": 21,
     "metadata": {},
     "output_type": "execute_result"
    }
   ],
   "source": [
    "countries_slug_df.sort_values(by = [\"Entity\"], inplace = True, ignore_index = True)\n",
    "countries_slug_df.head()"
   ]
  },
  {
   "cell_type": "code",
   "execution_count": 22,
   "metadata": {},
   "outputs": [],
   "source": [
    "countries_slug_df.to_csv(\"countries_raw.csv\")"
   ]
  },
  {
   "cell_type": "code",
   "execution_count": 23,
   "metadata": {},
   "outputs": [
    {
     "data": {
      "text/plain": [
       "248"
      ]
     },
     "execution_count": 23,
     "metadata": {},
     "output_type": "execute_result"
    }
   ],
   "source": [
    "len(countries_slug_df)"
   ]
  },
  {
   "cell_type": "code",
   "execution_count": 24,
   "metadata": {
    "scrolled": true
   },
   "outputs": [
    {
     "data": {
      "text/html": [
       "<div>\n",
       "<style scoped>\n",
       "    .dataframe tbody tr th:only-of-type {\n",
       "        vertical-align: middle;\n",
       "    }\n",
       "\n",
       "    .dataframe tbody tr th {\n",
       "        vertical-align: top;\n",
       "    }\n",
       "\n",
       "    .dataframe thead th {\n",
       "        text-align: right;\n",
       "    }\n",
       "</style>\n",
       "<table border=\"1\" class=\"dataframe\">\n",
       "  <thead>\n",
       "    <tr style=\"text-align: right;\">\n",
       "      <th></th>\n",
       "      <th>Entity</th>\n",
       "      <th>slug</th>\n",
       "      <th>ISO2</th>\n",
       "    </tr>\n",
       "  </thead>\n",
       "  <tbody>\n",
       "    <tr>\n",
       "      <th>count</th>\n",
       "      <td>248</td>\n",
       "      <td>248</td>\n",
       "      <td>248</td>\n",
       "    </tr>\n",
       "    <tr>\n",
       "      <th>unique</th>\n",
       "      <td>248</td>\n",
       "      <td>248</td>\n",
       "      <td>248</td>\n",
       "    </tr>\n",
       "    <tr>\n",
       "      <th>top</th>\n",
       "      <td>Samoa</td>\n",
       "      <td>vanuatu</td>\n",
       "      <td>BM</td>\n",
       "    </tr>\n",
       "    <tr>\n",
       "      <th>freq</th>\n",
       "      <td>1</td>\n",
       "      <td>1</td>\n",
       "      <td>1</td>\n",
       "    </tr>\n",
       "  </tbody>\n",
       "</table>\n",
       "</div>"
      ],
      "text/plain": [
       "       Entity     slug ISO2\n",
       "count     248      248  248\n",
       "unique    248      248  248\n",
       "top     Samoa  vanuatu   BM\n",
       "freq        1        1    1"
      ]
     },
     "execution_count": 24,
     "metadata": {},
     "output_type": "execute_result"
    }
   ],
   "source": [
    "countries_slug_df.describe()"
   ]
  },
  {
   "cell_type": "code",
   "execution_count": 25,
   "metadata": {},
   "outputs": [
    {
     "ename": "NameError",
     "evalue": "name 'coco' is not defined",
     "output_type": "error",
     "traceback": [
      "\u001b[1;31m---------------------------------------------------------------------------\u001b[0m",
      "\u001b[1;31mNameError\u001b[0m                                 Traceback (most recent call last)",
      "\u001b[1;32m<ipython-input-25-b6fedbb86e6e>\u001b[0m in \u001b[0;36m<module>\u001b[1;34m()\u001b[0m\n\u001b[0;32m      1\u001b[0m \u001b[0mentity1\u001b[0m\u001b[1;33m=\u001b[0m \u001b[0mlist\u001b[0m\u001b[1;33m(\u001b[0m\u001b[0mset\u001b[0m\u001b[1;33m(\u001b[0m\u001b[0mcountries_slug_df\u001b[0m\u001b[1;33m[\u001b[0m\u001b[1;34m\"Entity\"\u001b[0m\u001b[1;33m]\u001b[0m\u001b[1;33m)\u001b[0m\u001b[1;33m)\u001b[0m\u001b[1;33m\u001b[0m\u001b[1;33m\u001b[0m\u001b[0m\n\u001b[1;32m----> 2\u001b[1;33m \u001b[0mstandard_names\u001b[0m \u001b[1;33m=\u001b[0m \u001b[0mcoco\u001b[0m\u001b[1;33m.\u001b[0m\u001b[0mconvert\u001b[0m\u001b[1;33m(\u001b[0m\u001b[0mnames\u001b[0m\u001b[1;33m=\u001b[0m\u001b[0mentity1\u001b[0m\u001b[1;33m,\u001b[0m \u001b[0mto\u001b[0m\u001b[1;33m=\u001b[0m\u001b[1;34m'name_short'\u001b[0m\u001b[1;33m)\u001b[0m\u001b[1;33m\u001b[0m\u001b[1;33m\u001b[0m\u001b[0m\n\u001b[0m\u001b[0;32m      3\u001b[0m standardized_names1_df = pd.DataFrame({\"Entity\" : entity1,\n\u001b[0;32m      4\u001b[0m                                       \"standard_names\": standard_names}).sort_values(by = \"Entity\").reset_index(drop = True)\n\u001b[0;32m      5\u001b[0m \u001b[0mstandardized_names1_df\u001b[0m\u001b[1;33m.\u001b[0m\u001b[0mhead\u001b[0m\u001b[1;33m(\u001b[0m\u001b[1;33m)\u001b[0m\u001b[1;33m\u001b[0m\u001b[1;33m\u001b[0m\u001b[0m\n",
      "\u001b[1;31mNameError\u001b[0m: name 'coco' is not defined"
     ]
    }
   ],
   "source": [
    "entity1= list(set(countries_slug_df[\"Entity\"]))\n",
    "standard_names = coco.convert(names=entity1, to='name_short')\n",
    "standardized_names1_df = pd.DataFrame({\"Entity\" : entity1,\n",
    "                                      \"standard_names\": standard_names}).sort_values(by = \"Entity\").reset_index(drop = True)\n",
    "standardized_names1_df.head()"
   ]
  },
  {
   "cell_type": "code",
   "execution_count": 26,
   "metadata": {},
   "outputs": [
    {
     "ename": "NameError",
     "evalue": "name 'standardized_names1_df' is not defined",
     "output_type": "error",
     "traceback": [
      "\u001b[1;31m---------------------------------------------------------------------------\u001b[0m",
      "\u001b[1;31mNameError\u001b[0m                                 Traceback (most recent call last)",
      "\u001b[1;32m<ipython-input-26-1f0b43b4223c>\u001b[0m in \u001b[0;36m<module>\u001b[1;34m()\u001b[0m\n\u001b[1;32m----> 1\u001b[1;33m \u001b[0mstd_countries_slug_df\u001b[0m \u001b[1;33m=\u001b[0m \u001b[0mpd\u001b[0m\u001b[1;33m.\u001b[0m\u001b[0mmerge\u001b[0m\u001b[1;33m(\u001b[0m\u001b[0mcountries_slug_df\u001b[0m\u001b[1;33m,\u001b[0m \u001b[0mstandardized_names1_df\u001b[0m\u001b[1;33m,\u001b[0m \u001b[0mhow\u001b[0m \u001b[1;33m=\u001b[0m \u001b[1;34m\"left\"\u001b[0m\u001b[1;33m,\u001b[0m \u001b[0mleft_on\u001b[0m\u001b[1;33m=\u001b[0m\u001b[1;34m'Entity'\u001b[0m\u001b[1;33m,\u001b[0m \u001b[0mright_on\u001b[0m\u001b[1;33m=\u001b[0m\u001b[1;34m'Entity'\u001b[0m\u001b[1;33m)\u001b[0m\u001b[1;33m\u001b[0m\u001b[1;33m\u001b[0m\u001b[0m\n\u001b[0m\u001b[0;32m      2\u001b[0m \u001b[0mstd_countries_slug_df\u001b[0m\u001b[1;33m.\u001b[0m\u001b[0msort_values\u001b[0m\u001b[1;33m(\u001b[0m\u001b[0mby\u001b[0m \u001b[1;33m=\u001b[0m \u001b[1;34m\"Entity\"\u001b[0m\u001b[1;33m,\u001b[0m \u001b[0minplace\u001b[0m \u001b[1;33m=\u001b[0m \u001b[1;32mTrue\u001b[0m\u001b[1;33m)\u001b[0m\u001b[1;33m\u001b[0m\u001b[1;33m\u001b[0m\u001b[0m\n\u001b[0;32m      3\u001b[0m \u001b[0mstd_countries_slug_df\u001b[0m\u001b[1;33m.\u001b[0m\u001b[0mhead\u001b[0m\u001b[1;33m(\u001b[0m\u001b[1;33m)\u001b[0m\u001b[1;33m\u001b[0m\u001b[1;33m\u001b[0m\u001b[0m\n",
      "\u001b[1;31mNameError\u001b[0m: name 'standardized_names1_df' is not defined"
     ]
    }
   ],
   "source": [
    "std_countries_slug_df = pd.merge(countries_slug_df, standardized_names1_df, how = \"left\", left_on='Entity', right_on='Entity')\n",
    "std_countries_slug_df.sort_values(by = \"Entity\", inplace = True)\n",
    "std_countries_slug_df.head()"
   ]
  },
  {
   "cell_type": "code",
   "execution_count": 27,
   "metadata": {},
   "outputs": [
    {
     "ename": "NameError",
     "evalue": "name 'std_countries_slug_df' is not defined",
     "output_type": "error",
     "traceback": [
      "\u001b[1;31m---------------------------------------------------------------------------\u001b[0m",
      "\u001b[1;31mNameError\u001b[0m                                 Traceback (most recent call last)",
      "\u001b[1;32m<ipython-input-27-2846d887e629>\u001b[0m in \u001b[0;36m<module>\u001b[1;34m()\u001b[0m\n\u001b[1;32m----> 1\u001b[1;33m \u001b[0mstd_countries_slug_df\u001b[0m\u001b[1;33m.\u001b[0m\u001b[0mto_csv\u001b[0m\u001b[1;33m(\u001b[0m\u001b[1;34m\"countries_slug.csv\"\u001b[0m\u001b[1;33m)\u001b[0m\u001b[1;33m\u001b[0m\u001b[1;33m\u001b[0m\u001b[0m\n\u001b[0m",
      "\u001b[1;31mNameError\u001b[0m: name 'std_countries_slug_df' is not defined"
     ]
    }
   ],
   "source": [
    "std_countries_slug_df.to_csv(\"countries_slug.csv\")"
   ]
  },
  {
   "cell_type": "markdown",
   "metadata": {},
   "source": [
    "store response_countries in to a df.\n",
    "Import csv into a df.\n",
    "parse the country name column to add hyphens replacing spaces.\n",
    "do a lookup on response_countries df to get the slugs.\n",
    "create for loop to check all the slugs and make separate api calls."
   ]
  },
  {
   "cell_type": "code",
   "execution_count": 6,
   "metadata": {},
   "outputs": [
    {
     "data": {
      "text/html": [
       "<div>\n",
       "<style scoped>\n",
       "    .dataframe tbody tr th:only-of-type {\n",
       "        vertical-align: middle;\n",
       "    }\n",
       "\n",
       "    .dataframe tbody tr th {\n",
       "        vertical-align: top;\n",
       "    }\n",
       "\n",
       "    .dataframe thead th {\n",
       "        text-align: right;\n",
       "    }\n",
       "</style>\n",
       "<table border=\"1\" class=\"dataframe\">\n",
       "  <thead>\n",
       "    <tr style=\"text-align: right;\">\n",
       "      <th></th>\n",
       "      <th>Entity</th>\n",
       "      <th>Code</th>\n",
       "      <th>Date</th>\n",
       "      <th>stringency_index</th>\n",
       "    </tr>\n",
       "  </thead>\n",
       "  <tbody>\n",
       "    <tr>\n",
       "      <th>0</th>\n",
       "      <td>Afghanistan</td>\n",
       "      <td>AFG</td>\n",
       "      <td>1/1/2020</td>\n",
       "      <td>0.0</td>\n",
       "    </tr>\n",
       "    <tr>\n",
       "      <th>1</th>\n",
       "      <td>Afghanistan</td>\n",
       "      <td>AFG</td>\n",
       "      <td>1/2/2020</td>\n",
       "      <td>0.0</td>\n",
       "    </tr>\n",
       "    <tr>\n",
       "      <th>2</th>\n",
       "      <td>Afghanistan</td>\n",
       "      <td>AFG</td>\n",
       "      <td>1/3/2020</td>\n",
       "      <td>0.0</td>\n",
       "    </tr>\n",
       "    <tr>\n",
       "      <th>3</th>\n",
       "      <td>Afghanistan</td>\n",
       "      <td>AFG</td>\n",
       "      <td>1/4/2020</td>\n",
       "      <td>0.0</td>\n",
       "    </tr>\n",
       "    <tr>\n",
       "      <th>4</th>\n",
       "      <td>Afghanistan</td>\n",
       "      <td>AFG</td>\n",
       "      <td>1/5/2020</td>\n",
       "      <td>0.0</td>\n",
       "    </tr>\n",
       "  </tbody>\n",
       "</table>\n",
       "</div>"
      ],
      "text/plain": [
       "        Entity Code      Date  stringency_index\n",
       "0  Afghanistan  AFG  1/1/2020               0.0\n",
       "1  Afghanistan  AFG  1/2/2020               0.0\n",
       "2  Afghanistan  AFG  1/3/2020               0.0\n",
       "3  Afghanistan  AFG  1/4/2020               0.0\n",
       "4  Afghanistan  AFG  1/5/2020               0.0"
      ]
     },
     "execution_count": 6,
     "metadata": {},
     "output_type": "execute_result"
    }
   ],
   "source": [
    "stringency_df = pd.read_csv(\"covid-stringency-index.csv\")\n",
    "stringency_df.head()"
   ]
  },
  {
   "cell_type": "code",
   "execution_count": 7,
   "metadata": {},
   "outputs": [
    {
     "data": {
      "text/plain": [
       "62265"
      ]
     },
     "execution_count": 7,
     "metadata": {},
     "output_type": "execute_result"
    }
   ],
   "source": [
    "len(stringency_df)"
   ]
  },
  {
   "cell_type": "code",
   "execution_count": 8,
   "metadata": {},
   "outputs": [
    {
     "data": {
      "text/plain": [
       "181"
      ]
     },
     "execution_count": 8,
     "metadata": {},
     "output_type": "execute_result"
    }
   ],
   "source": [
    "stringency_df[\"Entity\"].nunique()"
   ]
  },
  {
   "cell_type": "code",
   "execution_count": 9,
   "metadata": {},
   "outputs": [
    {
     "data": {
      "text/html": [
       "<div>\n",
       "<style scoped>\n",
       "    .dataframe tbody tr th:only-of-type {\n",
       "        vertical-align: middle;\n",
       "    }\n",
       "\n",
       "    .dataframe tbody tr th {\n",
       "        vertical-align: top;\n",
       "    }\n",
       "\n",
       "    .dataframe thead th {\n",
       "        text-align: right;\n",
       "    }\n",
       "</style>\n",
       "<table border=\"1\" class=\"dataframe\">\n",
       "  <thead>\n",
       "    <tr style=\"text-align: right;\">\n",
       "      <th></th>\n",
       "      <th>Entity</th>\n",
       "      <th>Code</th>\n",
       "      <th>Date</th>\n",
       "      <th>stringency_index</th>\n",
       "      <th>month</th>\n",
       "      <th>year</th>\n",
       "    </tr>\n",
       "  </thead>\n",
       "  <tbody>\n",
       "    <tr>\n",
       "      <th>0</th>\n",
       "      <td>Afghanistan</td>\n",
       "      <td>AFG</td>\n",
       "      <td>1/1/2020</td>\n",
       "      <td>0.0</td>\n",
       "      <td>1</td>\n",
       "      <td>2020</td>\n",
       "    </tr>\n",
       "    <tr>\n",
       "      <th>1</th>\n",
       "      <td>Afghanistan</td>\n",
       "      <td>AFG</td>\n",
       "      <td>1/2/2020</td>\n",
       "      <td>0.0</td>\n",
       "      <td>1</td>\n",
       "      <td>2020</td>\n",
       "    </tr>\n",
       "    <tr>\n",
       "      <th>2</th>\n",
       "      <td>Afghanistan</td>\n",
       "      <td>AFG</td>\n",
       "      <td>1/3/2020</td>\n",
       "      <td>0.0</td>\n",
       "      <td>1</td>\n",
       "      <td>2020</td>\n",
       "    </tr>\n",
       "    <tr>\n",
       "      <th>3</th>\n",
       "      <td>Afghanistan</td>\n",
       "      <td>AFG</td>\n",
       "      <td>1/4/2020</td>\n",
       "      <td>0.0</td>\n",
       "      <td>1</td>\n",
       "      <td>2020</td>\n",
       "    </tr>\n",
       "    <tr>\n",
       "      <th>4</th>\n",
       "      <td>Afghanistan</td>\n",
       "      <td>AFG</td>\n",
       "      <td>1/5/2020</td>\n",
       "      <td>0.0</td>\n",
       "      <td>1</td>\n",
       "      <td>2020</td>\n",
       "    </tr>\n",
       "  </tbody>\n",
       "</table>\n",
       "</div>"
      ],
      "text/plain": [
       "        Entity Code      Date  stringency_index  month  year\n",
       "0  Afghanistan  AFG  1/1/2020               0.0      1  2020\n",
       "1  Afghanistan  AFG  1/2/2020               0.0      1  2020\n",
       "2  Afghanistan  AFG  1/3/2020               0.0      1  2020\n",
       "3  Afghanistan  AFG  1/4/2020               0.0      1  2020\n",
       "4  Afghanistan  AFG  1/5/2020               0.0      1  2020"
      ]
     },
     "execution_count": 9,
     "metadata": {},
     "output_type": "execute_result"
    }
   ],
   "source": [
    "stringency_df['month'] = pd.DatetimeIndex(stringency_df['Date']).month\n",
    "stringency_df['year'] = pd.DatetimeIndex(stringency_df['Date']).year\n",
    "stringency_df.head()"
   ]
  },
  {
   "cell_type": "code",
   "execution_count": 10,
   "metadata": {
    "scrolled": true
   },
   "outputs": [],
   "source": [
    "stringency_df.loc[stringency_df['Entity'] == \"Timor\", 'Entity'] = \"Timor-leste\""
   ]
  },
  {
   "cell_type": "code",
   "execution_count": 11,
   "metadata": {},
   "outputs": [
    {
     "data": {
      "text/html": [
       "<div>\n",
       "<style scoped>\n",
       "    .dataframe tbody tr th:only-of-type {\n",
       "        vertical-align: middle;\n",
       "    }\n",
       "\n",
       "    .dataframe tbody tr th {\n",
       "        vertical-align: top;\n",
       "    }\n",
       "\n",
       "    .dataframe thead th {\n",
       "        text-align: right;\n",
       "    }\n",
       "</style>\n",
       "<table border=\"1\" class=\"dataframe\">\n",
       "  <thead>\n",
       "    <tr style=\"text-align: right;\">\n",
       "      <th></th>\n",
       "      <th>stringency_index</th>\n",
       "      <th>month</th>\n",
       "      <th>year</th>\n",
       "    </tr>\n",
       "  </thead>\n",
       "  <tbody>\n",
       "    <tr>\n",
       "      <th>count</th>\n",
       "      <td>62265.000000</td>\n",
       "      <td>62265.000000</td>\n",
       "      <td>62265.0</td>\n",
       "    </tr>\n",
       "    <tr>\n",
       "      <th>mean</th>\n",
       "      <td>49.679238</td>\n",
       "      <td>6.182109</td>\n",
       "      <td>2020.0</td>\n",
       "    </tr>\n",
       "    <tr>\n",
       "      <th>std</th>\n",
       "      <td>29.292449</td>\n",
       "      <td>3.279415</td>\n",
       "      <td>0.0</td>\n",
       "    </tr>\n",
       "    <tr>\n",
       "      <th>min</th>\n",
       "      <td>0.000000</td>\n",
       "      <td>1.000000</td>\n",
       "      <td>2020.0</td>\n",
       "    </tr>\n",
       "    <tr>\n",
       "      <th>25%</th>\n",
       "      <td>25.930000</td>\n",
       "      <td>3.000000</td>\n",
       "      <td>2020.0</td>\n",
       "    </tr>\n",
       "    <tr>\n",
       "      <th>50%</th>\n",
       "      <td>54.630000</td>\n",
       "      <td>6.000000</td>\n",
       "      <td>2020.0</td>\n",
       "    </tr>\n",
       "    <tr>\n",
       "      <th>75%</th>\n",
       "      <td>74.070000</td>\n",
       "      <td>9.000000</td>\n",
       "      <td>2020.0</td>\n",
       "    </tr>\n",
       "    <tr>\n",
       "      <th>max</th>\n",
       "      <td>100.000000</td>\n",
       "      <td>12.000000</td>\n",
       "      <td>2020.0</td>\n",
       "    </tr>\n",
       "  </tbody>\n",
       "</table>\n",
       "</div>"
      ],
      "text/plain": [
       "       stringency_index         month     year\n",
       "count      62265.000000  62265.000000  62265.0\n",
       "mean          49.679238      6.182109   2020.0\n",
       "std           29.292449      3.279415      0.0\n",
       "min            0.000000      1.000000   2020.0\n",
       "25%           25.930000      3.000000   2020.0\n",
       "50%           54.630000      6.000000   2020.0\n",
       "75%           74.070000      9.000000   2020.0\n",
       "max          100.000000     12.000000   2020.0"
      ]
     },
     "execution_count": 11,
     "metadata": {},
     "output_type": "execute_result"
    }
   ],
   "source": [
    "stringency_df.describe()"
   ]
  },
  {
   "cell_type": "code",
   "execution_count": 12,
   "metadata": {},
   "outputs": [
    {
     "data": {
      "text/html": [
       "<div>\n",
       "<style scoped>\n",
       "    .dataframe tbody tr th:only-of-type {\n",
       "        vertical-align: middle;\n",
       "    }\n",
       "\n",
       "    .dataframe tbody tr th {\n",
       "        vertical-align: top;\n",
       "    }\n",
       "\n",
       "    .dataframe thead th {\n",
       "        text-align: right;\n",
       "    }\n",
       "</style>\n",
       "<table border=\"1\" class=\"dataframe\">\n",
       "  <thead>\n",
       "    <tr style=\"text-align: right;\">\n",
       "      <th></th>\n",
       "      <th>Entity</th>\n",
       "      <th>Code</th>\n",
       "      <th>Date</th>\n",
       "      <th>stringency_index</th>\n",
       "      <th>month</th>\n",
       "      <th>year</th>\n",
       "    </tr>\n",
       "  </thead>\n",
       "  <tbody>\n",
       "    <tr>\n",
       "      <th>55597</th>\n",
       "      <td>Timor-leste</td>\n",
       "      <td>TLS</td>\n",
       "      <td>1/1/2020</td>\n",
       "      <td>0.00</td>\n",
       "      <td>1</td>\n",
       "      <td>2020</td>\n",
       "    </tr>\n",
       "    <tr>\n",
       "      <th>55598</th>\n",
       "      <td>Timor-leste</td>\n",
       "      <td>TLS</td>\n",
       "      <td>1/2/2020</td>\n",
       "      <td>0.00</td>\n",
       "      <td>1</td>\n",
       "      <td>2020</td>\n",
       "    </tr>\n",
       "    <tr>\n",
       "      <th>55599</th>\n",
       "      <td>Timor-leste</td>\n",
       "      <td>TLS</td>\n",
       "      <td>1/3/2020</td>\n",
       "      <td>0.00</td>\n",
       "      <td>1</td>\n",
       "      <td>2020</td>\n",
       "    </tr>\n",
       "    <tr>\n",
       "      <th>55600</th>\n",
       "      <td>Timor-leste</td>\n",
       "      <td>TLS</td>\n",
       "      <td>1/4/2020</td>\n",
       "      <td>0.00</td>\n",
       "      <td>1</td>\n",
       "      <td>2020</td>\n",
       "    </tr>\n",
       "    <tr>\n",
       "      <th>55601</th>\n",
       "      <td>Timor-leste</td>\n",
       "      <td>TLS</td>\n",
       "      <td>1/5/2020</td>\n",
       "      <td>0.00</td>\n",
       "      <td>1</td>\n",
       "      <td>2020</td>\n",
       "    </tr>\n",
       "    <tr>\n",
       "      <th>...</th>\n",
       "      <td>...</td>\n",
       "      <td>...</td>\n",
       "      <td>...</td>\n",
       "      <td>...</td>\n",
       "      <td>...</td>\n",
       "      <td>...</td>\n",
       "    </tr>\n",
       "    <tr>\n",
       "      <th>55941</th>\n",
       "      <td>Timor-leste</td>\n",
       "      <td>TLS</td>\n",
       "      <td>12/10/2020</td>\n",
       "      <td>27.78</td>\n",
       "      <td>12</td>\n",
       "      <td>2020</td>\n",
       "    </tr>\n",
       "    <tr>\n",
       "      <th>55942</th>\n",
       "      <td>Timor-leste</td>\n",
       "      <td>TLS</td>\n",
       "      <td>12/11/2020</td>\n",
       "      <td>27.78</td>\n",
       "      <td>12</td>\n",
       "      <td>2020</td>\n",
       "    </tr>\n",
       "    <tr>\n",
       "      <th>55943</th>\n",
       "      <td>Timor-leste</td>\n",
       "      <td>TLS</td>\n",
       "      <td>12/12/2020</td>\n",
       "      <td>27.78</td>\n",
       "      <td>12</td>\n",
       "      <td>2020</td>\n",
       "    </tr>\n",
       "    <tr>\n",
       "      <th>55944</th>\n",
       "      <td>Timor-leste</td>\n",
       "      <td>TLS</td>\n",
       "      <td>12/13/2020</td>\n",
       "      <td>27.78</td>\n",
       "      <td>12</td>\n",
       "      <td>2020</td>\n",
       "    </tr>\n",
       "    <tr>\n",
       "      <th>55945</th>\n",
       "      <td>Timor-leste</td>\n",
       "      <td>TLS</td>\n",
       "      <td>12/14/2020</td>\n",
       "      <td>27.78</td>\n",
       "      <td>12</td>\n",
       "      <td>2020</td>\n",
       "    </tr>\n",
       "  </tbody>\n",
       "</table>\n",
       "<p>349 rows × 6 columns</p>\n",
       "</div>"
      ],
      "text/plain": [
       "            Entity Code        Date  stringency_index  month  year\n",
       "55597  Timor-leste  TLS    1/1/2020              0.00      1  2020\n",
       "55598  Timor-leste  TLS    1/2/2020              0.00      1  2020\n",
       "55599  Timor-leste  TLS    1/3/2020              0.00      1  2020\n",
       "55600  Timor-leste  TLS    1/4/2020              0.00      1  2020\n",
       "55601  Timor-leste  TLS    1/5/2020              0.00      1  2020\n",
       "...            ...  ...         ...               ...    ...   ...\n",
       "55941  Timor-leste  TLS  12/10/2020             27.78     12  2020\n",
       "55942  Timor-leste  TLS  12/11/2020             27.78     12  2020\n",
       "55943  Timor-leste  TLS  12/12/2020             27.78     12  2020\n",
       "55944  Timor-leste  TLS  12/13/2020             27.78     12  2020\n",
       "55945  Timor-leste  TLS  12/14/2020             27.78     12  2020\n",
       "\n",
       "[349 rows x 6 columns]"
      ]
     },
     "execution_count": 12,
     "metadata": {},
     "output_type": "execute_result"
    }
   ],
   "source": [
    "stringency_df.loc[stringency_df['Entity'] == \"Timor-leste\"]"
   ]
  },
  {
   "cell_type": "code",
   "execution_count": 13,
   "metadata": {},
   "outputs": [
    {
     "ename": "NameError",
     "evalue": "name 'coco' is not defined",
     "output_type": "error",
     "traceback": [
      "\u001b[1;31m---------------------------------------------------------------------------\u001b[0m",
      "\u001b[1;31mNameError\u001b[0m                                 Traceback (most recent call last)",
      "\u001b[1;32m<ipython-input-13-02cff4341a47>\u001b[0m in \u001b[0;36m<module>\u001b[1;34m()\u001b[0m\n\u001b[0;32m      1\u001b[0m \u001b[0mentity2\u001b[0m\u001b[1;33m=\u001b[0m \u001b[0mlist\u001b[0m\u001b[1;33m(\u001b[0m\u001b[0mset\u001b[0m\u001b[1;33m(\u001b[0m\u001b[0mstringency_df\u001b[0m\u001b[1;33m[\u001b[0m\u001b[1;34m\"Entity\"\u001b[0m\u001b[1;33m]\u001b[0m\u001b[1;33m)\u001b[0m\u001b[1;33m)\u001b[0m\u001b[1;33m\u001b[0m\u001b[1;33m\u001b[0m\u001b[0m\n\u001b[1;32m----> 2\u001b[1;33m \u001b[0mstandard_names2\u001b[0m \u001b[1;33m=\u001b[0m \u001b[0mcoco\u001b[0m\u001b[1;33m.\u001b[0m\u001b[0mconvert\u001b[0m\u001b[1;33m(\u001b[0m\u001b[0mnames\u001b[0m\u001b[1;33m=\u001b[0m\u001b[0mentity2\u001b[0m\u001b[1;33m,\u001b[0m \u001b[0mto\u001b[0m\u001b[1;33m=\u001b[0m\u001b[1;34m'name_short'\u001b[0m\u001b[1;33m)\u001b[0m\u001b[1;33m\u001b[0m\u001b[1;33m\u001b[0m\u001b[0m\n\u001b[0m\u001b[0;32m      3\u001b[0m standardized_names2_df = pd.DataFrame({\"Entity\" : entity2,\n\u001b[0;32m      4\u001b[0m                                       \"standard_names\": standard_names2}).sort_values(by = \"Entity\").reset_index(drop = True)\n\u001b[0;32m      5\u001b[0m \u001b[0mstandardized_names2_df\u001b[0m\u001b[1;33m.\u001b[0m\u001b[0mhead\u001b[0m\u001b[1;33m(\u001b[0m\u001b[1;36m10\u001b[0m\u001b[1;33m)\u001b[0m\u001b[1;33m\u001b[0m\u001b[1;33m\u001b[0m\u001b[0m\n",
      "\u001b[1;31mNameError\u001b[0m: name 'coco' is not defined"
     ]
    }
   ],
   "source": [
    "entity2= list(set(stringency_df[\"Entity\"]))\n",
    "standard_names2 = coco.convert(names=entity2, to='name_short')\n",
    "standardized_names2_df = pd.DataFrame({\"Entity\" : entity2,\n",
    "                                      \"standard_names\": standard_names2}).sort_values(by = \"Entity\").reset_index(drop = True)\n",
    "standardized_names2_df.head(10)"
   ]
  },
  {
   "cell_type": "code",
   "execution_count": null,
   "metadata": {},
   "outputs": [],
   "source": [
    "cleaned_stringency_df = stringency_df.groupby(by = [\"Entity\", \"Code\", \"month\", \"year\"], as_index = False)[\"stringency_index\"].mean()\n",
    "cleaned_stringency_df.head(-10)"
   ]
  },
  {
   "cell_type": "code",
   "execution_count": null,
   "metadata": {},
   "outputs": [],
   "source": [
    "std_stringency_df = pd.merge(cleaned_stringency_df, standardized_names2_df, how = \"left\", left_on='Entity', right_on='Entity')\n",
    "std_stringency_df.sort_values(by = \"Entity\", inplace = True)\n",
    "std_stringency_df.head()"
   ]
  },
  {
   "cell_type": "code",
   "execution_count": null,
   "metadata": {},
   "outputs": [],
   "source": [
    "std_stringency_df.to_csv(\"cleaned_stringency.csv\")"
   ]
  },
  {
   "cell_type": "code",
   "execution_count": null,
   "metadata": {},
   "outputs": [],
   "source": [
    "merged_stringency_df =pd.merge(std_countries_slug_df, std_stringency_df, how = \"inner\", on = \"standard_names\")\n",
    "merged_stringency_df = merged_stringency_df[merged_stringency_df[\"standard_names\"] != \"not found\"]\n",
    "merged_stringency_df.rename(columns = {\"Entity_x\": \"Entity\", \"Code\" : \"ISO3\"}, inplace=True)\n",
    "merged_stringency_df = merged_stringency_df[[\"Entity\" , \"standard_names\", \"slug\", \"ISO2\", \"ISO3\", \"month\", \"year\", \"stringency_index\"]]\n",
    "merged_stringency_df.sort_values( by = [\"standard_names\", \"year\", \"month\"], inplace = True, ignore_index=True)\n",
    "merged_stringency_df.head()"
   ]
  },
  {
   "cell_type": "code",
   "execution_count": null,
   "metadata": {},
   "outputs": [],
   "source": [
    "merged_stringency_df.to_csv(\"merged_stringency.csv\")"
   ]
  },
  {
   "cell_type": "code",
   "execution_count": null,
   "metadata": {},
   "outputs": [],
   "source": [
    "merged_stringency_df[\"standard_names\"].nunique()"
   ]
  },
  {
   "cell_type": "code",
   "execution_count": null,
   "metadata": {},
   "outputs": [],
   "source": [
    "std_countries_slug_df[[\"Entity\"]][~std_countries_slug_df[\"standard_names\"].isin(set(merged_stringency_df[\"standard_names\"]))].drop_duplicates().reset_index(drop = True)"
   ]
  },
  {
   "cell_type": "code",
   "execution_count": null,
   "metadata": {},
   "outputs": [],
   "source": [
    "std_stringency_df[[\"Entity\"]][~std_stringency_df[\"standard_names\"].isin(list(set(merged_stringency_df[\"standard_names\"])))].drop_duplicates().reset_index(drop = True)"
   ]
  },
  {
   "cell_type": "code",
   "execution_count": null,
   "metadata": {},
   "outputs": [],
   "source": [
    "country_names= list(set(merged_stringency_df['slug']))\n",
    "country_names.sort()\n",
    "country_names"
   ]
  },
  {
   "cell_type": "code",
   "execution_count": null,
   "metadata": {},
   "outputs": [],
   "source": [
    "len(country_names)"
   ]
  },
  {
   "cell_type": "code",
   "execution_count": null,
   "metadata": {},
   "outputs": [],
   "source": [
    "base_url = 'https://api.covid19api.com/total/country/'\n",
    "# https://api.covid19api.com/total/country/india/status/confirmed\n",
    "entity = []\n",
    "confirmed = []\n",
    "deaths = []\n",
    "recovered = []\n",
    "active = []\n",
    "date = []"
   ]
  },
  {
   "cell_type": "code",
   "execution_count": null,
   "metadata": {},
   "outputs": [],
   "source": [
    "for country in range(181):\n",
    "    searc_url = base_url + country_names[country]\n",
    "    covid_response = requests.get(searc_url).json()\n",
    "    for i in range(len(covid_response)):\n",
    "        entity.append(covid_response[i][\"Country\"])\n",
    "        confirmed.append(covid_response[i][\"Confirmed\"])\n",
    "        deaths.append(covid_response[i][\"Deaths\"])\n",
    "        recovered.append(covid_response[i][\"Recovered\"])\n",
    "        active.append(covid_response[i][\"Active\"])\n",
    "        date.append(covid_response[i][\"Date\"])\n",
    "    time.sleep(1)  "
   ]
  },
  {
   "cell_type": "code",
   "execution_count": null,
   "metadata": {},
   "outputs": [],
   "source": [
    "pprint(covid_response)"
   ]
  },
  {
   "cell_type": "code",
   "execution_count": null,
   "metadata": {},
   "outputs": [],
   "source": [
    "global_covid_df = pd.DataFrame({\"Entity\" : entity,\n",
    "                               \"Confirmed\" : confirmed,\n",
    "                               \"Deaths\" : deaths,\n",
    "                               \"Recovered\" : recovered,\n",
    "                               \"Active\" : active,\n",
    "                               \"Date\" : date})\n",
    "global_covid_df.sort_values(by = [\"Entity\", \"Date\"], inplace = True, ignore_index= True)\n",
    "global_covid_df.head(-10)"
   ]
  },
  {
   "cell_type": "code",
   "execution_count": 14,
   "metadata": {},
   "outputs": [
    {
     "data": {
      "text/plain": [
       "'2020-01-22T00:00:00Z'"
      ]
     },
     "execution_count": 14,
     "metadata": {},
     "output_type": "execute_result"
    }
   ],
   "source": [
    "search_url = \"https://api.covid19api.com/total/country/india\"\n",
    "covid_response = requests.get(search_url).json()\n",
    "covid_response[0][\"Date\"]"
   ]
  },
  {
   "cell_type": "markdown",
   "metadata": {},
   "source": [
    ">>> import re\n",
    ">>> s = \"How are you\"\n",
    ">>> print re.sub('\\s', '-', s)"
   ]
  },
  {
   "cell_type": "code",
   "execution_count": 15,
   "metadata": {},
   "outputs": [
    {
     "ename": "NameError",
     "evalue": "name 'global_covid_df' is not defined",
     "output_type": "error",
     "traceback": [
      "\u001b[1;31m---------------------------------------------------------------------------\u001b[0m",
      "\u001b[1;31mNameError\u001b[0m                                 Traceback (most recent call last)",
      "\u001b[1;32m<ipython-input-15-a763c2da5f62>\u001b[0m in \u001b[0;36m<module>\u001b[1;34m()\u001b[0m\n\u001b[1;32m----> 1\u001b[1;33m \u001b[0mglobal_covid_df\u001b[0m\u001b[1;33m.\u001b[0m\u001b[0mto_csv\u001b[0m\u001b[1;33m(\u001b[0m\u001b[1;34m\"global_covid_stats.csv\"\u001b[0m\u001b[1;33m)\u001b[0m\u001b[1;33m\u001b[0m\u001b[1;33m\u001b[0m\u001b[0m\n\u001b[0m",
      "\u001b[1;31mNameError\u001b[0m: name 'global_covid_df' is not defined"
     ]
    }
   ],
   "source": [
    "global_covid_df.to_csv(\"global_covid_stats.csv\")"
   ]
  },
  {
   "cell_type": "code",
   "execution_count": null,
   "metadata": {},
   "outputs": [],
   "source": []
  }
 ],
 "metadata": {
  "kernelspec": {
   "display_name": "Python 3",
   "language": "python",
   "name": "python3"
  },
  "language_info": {
   "codemirror_mode": {
    "name": "ipython",
    "version": 3
   },
   "file_extension": ".py",
   "mimetype": "text/x-python",
   "name": "python",
   "nbconvert_exporter": "python",
   "pygments_lexer": "ipython3",
   "version": "3.7.9"
  }
 },
 "nbformat": 4,
 "nbformat_minor": 4
}
