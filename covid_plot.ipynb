{
 "cells": [
  {
   "cell_type": "code",
   "execution_count": 1,
   "metadata": {},
   "outputs": [
    {
     "ename": "ModuleNotFoundError",
     "evalue": "No module named 'config'",
     "output_type": "error",
     "traceback": [
      "\u001b[1;31m---------------------------------------------------------------------------\u001b[0m",
      "\u001b[1;31mModuleNotFoundError\u001b[0m                       Traceback (most recent call last)",
      "\u001b[1;32m<ipython-input-1-1eb0870e8466>\u001b[0m in \u001b[0;36m<module>\u001b[1;34m()\u001b[0m\n\u001b[0;32m      4\u001b[0m \u001b[1;32mimport\u001b[0m \u001b[0mscipy\u001b[0m\u001b[1;33m.\u001b[0m\u001b[0mstats\u001b[0m \u001b[1;32mas\u001b[0m \u001b[0mst\u001b[0m\u001b[1;33m\u001b[0m\u001b[1;33m\u001b[0m\u001b[0m\n\u001b[0;32m      5\u001b[0m \u001b[1;32mfrom\u001b[0m \u001b[0mscipy\u001b[0m\u001b[1;33m.\u001b[0m\u001b[0mstats\u001b[0m \u001b[1;32mimport\u001b[0m \u001b[0mlinregress\u001b[0m\u001b[1;33m\u001b[0m\u001b[1;33m\u001b[0m\u001b[0m\n\u001b[1;32m----> 6\u001b[1;33m \u001b[1;32mfrom\u001b[0m \u001b[0mconfig\u001b[0m \u001b[1;32mimport\u001b[0m \u001b[0mgkey\u001b[0m\u001b[1;33m\u001b[0m\u001b[1;33m\u001b[0m\u001b[0m\n\u001b[0m\u001b[0;32m      7\u001b[0m \u001b[1;32mimport\u001b[0m \u001b[0mgmaps\u001b[0m\u001b[1;33m\u001b[0m\u001b[1;33m\u001b[0m\u001b[0m\n\u001b[0;32m      8\u001b[0m \u001b[1;32mfrom\u001b[0m \u001b[0mipywidgets\u001b[0m\u001b[1;33m.\u001b[0m\u001b[0membed\u001b[0m \u001b[1;32mimport\u001b[0m \u001b[0membed_minimal_html\u001b[0m\u001b[1;33m\u001b[0m\u001b[1;33m\u001b[0m\u001b[0m\n",
      "\u001b[1;31mModuleNotFoundError\u001b[0m: No module named 'config'"
     ]
    }
   ],
   "source": [
    "import matplotlib.pyplot as plt\n",
    "import pandas as pd\n",
    "import numpy as np\n",
    "import scipy.stats as st\n",
    "from scipy.stats import linregress\n",
    "from config import gkey\n",
    "import gmaps\n",
    "from ipywidgets.embed import embed_minimal_html\n",
    "import seaborn as sns\n",
    "import plotly.express as px\n",
    "import re\n",
    "import gmaps.geojson_geometries\n",
    "from matplotlib.cm import viridis\n",
    "from matplotlib.cm import Spectral\n",
    "from matplotlib.colors import to_hex\n",
    "import country_converter as coco"
   ]
  },
  {
   "cell_type": "markdown",
   "metadata": {},
   "source": [
    "# Data Pull"
   ]
  },
  {
   "cell_type": "code",
   "execution_count": null,
   "metadata": {
    "scrolled": true
   },
   "outputs": [],
   "source": [
    "ultimate_no_null_df = pd.read_csv(\"ultimate_no_null.csv\")\n",
    "ultimate_no_null_df.head(-1)"
   ]
  },
  {
   "cell_type": "code",
   "execution_count": null,
   "metadata": {},
   "outputs": [],
   "source": [
    "ultimate_no_null_df.loc[ultimate_no_null_df[\"standard_names\"]==\"Vanuatu\"]"
   ]
  },
  {
   "cell_type": "code",
   "execution_count": null,
   "metadata": {
    "scrolled": true
   },
   "outputs": [],
   "source": [
    "covid_stats_df =  pd.read_csv(\"covid_stats_2020.csv\")\n",
    "covid_stats_df.head()"
   ]
  },
  {
   "cell_type": "code",
   "execution_count": null,
   "metadata": {},
   "outputs": [],
   "source": [
    "sample = pd.read_csv(\"samples.csv\")\n",
    "sample"
   ]
  },
  {
   "cell_type": "code",
   "execution_count": null,
   "metadata": {},
   "outputs": [],
   "source": [
    "covid_stats_sorted_df = pd.read_csv(\"covid_stats_sorted.csv\")\n",
    "covid_stats_sorted_df.head()"
   ]
  },
  {
   "cell_type": "markdown",
   "metadata": {},
   "source": [
    "# Heatmap by gmaps"
   ]
  },
  {
   "cell_type": "code",
   "execution_count": null,
   "metadata": {},
   "outputs": [],
   "source": [
    "# Configure gmaps\n",
    "gmaps.configure(api_key=gkey)\n",
    "\n",
    "# Store latitude and longitude in locations\n",
    "locations = covid_stats_df[[\"lat\", \"lng\"]]\n",
    "\n",
    "# Store Confirmed in Confirmed series\n",
    "confirmed = covid_stats_df[\"Confirmed\"].astype(float)\n",
    "\n",
    "# Calculating the max Confirmed for heatmap\n",
    "max_infection = confirmed.max()"
   ]
  },
  {
   "cell_type": "code",
   "execution_count": null,
   "metadata": {
    "scrolled": false
   },
   "outputs": [],
   "source": [
    "# Plot Heatmap\n",
    "fig = gmaps.figure()\n",
    "\n",
    "info_box_template = \"\"\"\n",
    "<dl>\n",
    "<dt>Name</dt><dd>{standard_names}</dd>\n",
    "<dt>Confirmed</dt><dd>{Confirmed}</dd>\n",
    "<dt>Population</dt><dd>{Population (2020)}</dd>\n",
    "<dt>Infection rate</dt><dd>{Infection_rate_f}</dd>\n",
    "</dl>\n",
    "\"\"\"\n",
    "sample_info = [info_box_template.format(**row) for index, row in sample.iterrows()]\n",
    "sample_locations = sample[[\"lat\", \"lng\"]]\n",
    "markers = gmaps.marker_layer(sample_locations, info_box_content = sample_info)\n",
    "\n",
    "# Create heat layer\n",
    "heatmap_layer = gmaps.heatmap_layer(locations, weights=confirmed, max_intensity=1000000,\n",
    "                                    point_radius=5.0, dissipating = False)\n",
    "\n",
    "# Add layer\n",
    "fig.add_layer(heatmap_layer)\n",
    "fig.add_layer(markers)\n",
    "# Display figure\n",
    "fig"
   ]
  },
  {
   "cell_type": "code",
   "execution_count": 2,
   "metadata": {},
   "outputs": [],
   "source": [
    "# Export the map in an interactive HTML file\n",
    "# embed_minimal_html(\"Images/Confirmed.html\", views=[fig])"
   ]
  },
  {
   "cell_type": "markdown",
   "metadata": {},
   "source": [
    "# Plotly world map"
   ]
  },
  {
   "cell_type": "code",
   "execution_count": 3,
   "metadata": {},
   "outputs": [],
   "source": [
    "# fig = px.colors.sequential.swatches_continuous()\n",
    "# fig.show()"
   ]
  },
  {
   "cell_type": "code",
   "execution_count": 4,
   "metadata": {},
   "outputs": [
    {
     "ename": "NameError",
     "evalue": "name 'px' is not defined",
     "output_type": "error",
     "traceback": [
      "\u001b[1;31m---------------------------------------------------------------------------\u001b[0m",
      "\u001b[1;31mNameError\u001b[0m                                 Traceback (most recent call last)",
      "\u001b[1;32m<ipython-input-4-a2b58207e86d>\u001b[0m in \u001b[0;36m<module>\u001b[1;34m()\u001b[0m\n\u001b[1;32m----> 1\u001b[1;33m fig = px.choropleth(covid_stats_df[[\"standard_names\", \"ISO_3\", \"Confirmed\"]], locations=\"ISO_3\",\n\u001b[0m\u001b[0;32m      2\u001b[0m                     \u001b[0mcolor\u001b[0m\u001b[1;33m=\u001b[0m\u001b[1;34m\"Confirmed\"\u001b[0m\u001b[1;33m,\u001b[0m\u001b[1;33m\u001b[0m\u001b[1;33m\u001b[0m\u001b[0m\n\u001b[0;32m      3\u001b[0m                     \u001b[0mhover_name\u001b[0m\u001b[1;33m=\u001b[0m\u001b[1;34m\"standard_names\"\u001b[0m\u001b[1;33m,\u001b[0m \u001b[1;31m# column to add to hover information\u001b[0m\u001b[1;33m\u001b[0m\u001b[1;33m\u001b[0m\u001b[0m\n\u001b[0;32m      4\u001b[0m                     color_continuous_scale=px.colors.sequential.Rainbow)\n\u001b[0;32m      5\u001b[0m \u001b[0mfig\u001b[0m\u001b[1;33m.\u001b[0m\u001b[0mwrite_html\u001b[0m\u001b[1;33m(\u001b[0m\u001b[1;34m\"covid_world.html\"\u001b[0m\u001b[1;33m)\u001b[0m\u001b[1;33m\u001b[0m\u001b[1;33m\u001b[0m\u001b[0m\n",
      "\u001b[1;31mNameError\u001b[0m: name 'px' is not defined"
     ]
    }
   ],
   "source": [
    "fig = px.choropleth(covid_stats_df[[\"standard_names\", \"ISO_3\", \"Confirmed\"]], locations=\"ISO_3\",\n",
    "                    color=\"Confirmed\", \n",
    "                    hover_name=\"standard_names\", # column to add to hover information\n",
    "                    color_continuous_scale=px.colors.sequential.Rainbow)\n",
    "fig.write_html(\"covid_world.html\")\n",
    "fig.show()"
   ]
  },
  {
   "cell_type": "markdown",
   "metadata": {},
   "source": [
    "# GeoJSON layer"
   ]
  },
  {
   "cell_type": "code",
   "execution_count": 5,
   "metadata": {},
   "outputs": [
    {
     "ename": "NameError",
     "evalue": "name 'covid_stats_df' is not defined",
     "output_type": "error",
     "traceback": [
      "\u001b[1;31m---------------------------------------------------------------------------\u001b[0m",
      "\u001b[1;31mNameError\u001b[0m                                 Traceback (most recent call last)",
      "\u001b[1;32m<ipython-input-5-0c0b0bab08ad>\u001b[0m in \u001b[0;36m<module>\u001b[1;34m()\u001b[0m\n\u001b[1;32m----> 1\u001b[1;33m \u001b[0mcovid_dict\u001b[0m \u001b[1;33m=\u001b[0m \u001b[0mcovid_stats_df\u001b[0m\u001b[1;33m[\u001b[0m\u001b[1;33m[\u001b[0m\u001b[1;34m\"standard_names\"\u001b[0m\u001b[1;33m,\u001b[0m \u001b[1;34m\"Confirmed\"\u001b[0m\u001b[1;33m]\u001b[0m\u001b[1;33m]\u001b[0m\u001b[1;33m.\u001b[0m\u001b[0mset_index\u001b[0m\u001b[1;33m(\u001b[0m\u001b[1;34m'standard_names'\u001b[0m\u001b[1;33m)\u001b[0m\u001b[1;33m.\u001b[0m\u001b[0mto_dict\u001b[0m\u001b[1;33m(\u001b[0m\u001b[1;34m'dict'\u001b[0m\u001b[1;33m)\u001b[0m\u001b[1;33m\u001b[0m\u001b[1;33m\u001b[0m\u001b[0m\n\u001b[0m\u001b[0;32m      2\u001b[0m \u001b[0mcountries_geojson\u001b[0m \u001b[1;33m=\u001b[0m \u001b[0mgmaps\u001b[0m\u001b[1;33m.\u001b[0m\u001b[0mgeojson_geometries\u001b[0m\u001b[1;33m.\u001b[0m\u001b[0mload_geometry\u001b[0m\u001b[1;33m(\u001b[0m\u001b[1;34m'countries'\u001b[0m\u001b[1;33m)\u001b[0m\u001b[1;33m\u001b[0m\u001b[1;33m\u001b[0m\u001b[0m\n\u001b[0;32m      3\u001b[0m \u001b[1;33m\u001b[0m\u001b[0m\n\u001b[0;32m      4\u001b[0m \u001b[0mmin_con\u001b[0m \u001b[1;33m=\u001b[0m \u001b[0mmin\u001b[0m\u001b[1;33m(\u001b[0m\u001b[0mcovid_dict\u001b[0m\u001b[1;33m[\u001b[0m\u001b[1;34m\"Confirmed\"\u001b[0m\u001b[1;33m]\u001b[0m\u001b[1;33m.\u001b[0m\u001b[0mkeys\u001b[0m\u001b[1;33m(\u001b[0m\u001b[1;33m)\u001b[0m\u001b[1;33m,\u001b[0m \u001b[0mkey\u001b[0m\u001b[1;33m=\u001b[0m\u001b[1;33m(\u001b[0m\u001b[1;32mlambda\u001b[0m \u001b[0mk\u001b[0m\u001b[1;33m:\u001b[0m \u001b[0mcovid_dict\u001b[0m\u001b[1;33m[\u001b[0m\u001b[1;34m\"Confirmed\"\u001b[0m\u001b[1;33m]\u001b[0m\u001b[1;33m[\u001b[0m\u001b[0mk\u001b[0m\u001b[1;33m]\u001b[0m\u001b[1;33m)\u001b[0m\u001b[1;33m)\u001b[0m\u001b[1;33m\u001b[0m\u001b[1;33m\u001b[0m\u001b[0m\n\u001b[0;32m      5\u001b[0m \u001b[0mmax_con\u001b[0m \u001b[1;33m=\u001b[0m \u001b[0mmax\u001b[0m\u001b[1;33m(\u001b[0m\u001b[0mcovid_dict\u001b[0m\u001b[1;33m[\u001b[0m\u001b[1;34m\"Confirmed\"\u001b[0m\u001b[1;33m]\u001b[0m\u001b[1;33m.\u001b[0m\u001b[0mkeys\u001b[0m\u001b[1;33m(\u001b[0m\u001b[1;33m)\u001b[0m\u001b[1;33m,\u001b[0m \u001b[0mkey\u001b[0m\u001b[1;33m=\u001b[0m\u001b[1;33m(\u001b[0m\u001b[1;32mlambda\u001b[0m \u001b[0mk\u001b[0m\u001b[1;33m:\u001b[0m \u001b[0mcovid_dict\u001b[0m\u001b[1;33m[\u001b[0m\u001b[1;34m\"Confirmed\"\u001b[0m\u001b[1;33m]\u001b[0m\u001b[1;33m[\u001b[0m\u001b[0mk\u001b[0m\u001b[1;33m]\u001b[0m\u001b[1;33m)\u001b[0m\u001b[1;33m)\u001b[0m\u001b[1;33m\u001b[0m\u001b[1;33m\u001b[0m\u001b[0m\n",
      "\u001b[1;31mNameError\u001b[0m: name 'covid_stats_df' is not defined"
     ]
    }
   ],
   "source": [
    "covid_dict = covid_stats_df[[\"standard_names\", \"Confirmed\"]].set_index('standard_names').to_dict('dict')\n",
    "countries_geojson = gmaps.geojson_geometries.load_geometry('countries')\n",
    "\n",
    "min_con = min(covid_dict[\"Confirmed\"].keys(), key=(lambda k: covid_dict[\"Confirmed\"][k]))\n",
    "max_con = max(covid_dict[\"Confirmed\"].keys(), key=(lambda k: covid_dict[\"Confirmed\"][k]))\n",
    "con_range = covid_dict[\"Confirmed\"][max_con] - covid_dict[\"Confirmed\"][min_con]\n",
    "\n",
    "def calculate_color(con):\n",
    "    \"\"\"\n",
    "    Convert the confirmed count to a color\n",
    "    \"\"\"\n",
    "    # make gini a number between 0 and 1\n",
    "    normalized_con = (con - covid_dict[\"Confirmed\"][min_con]) / con_range\n",
    "\n",
    "    # invert gini so that high inequality gives dark color\n",
    "    inverse_con = 1.0 - normalized_con\n",
    "\n",
    "    # transform the gini coefficient to a matplotlib color\n",
    "    mpl_color = Spectral(inverse_con)\n",
    "\n",
    "    # transform from a matplotlib color to a valid CSS color\n",
    "    gmaps_color = to_hex(mpl_color, keep_alpha=False)\n",
    "\n",
    "    return gmaps_color"
   ]
  },
  {
   "cell_type": "code",
   "execution_count": 6,
   "metadata": {},
   "outputs": [
    {
     "ename": "NameError",
     "evalue": "name 'countries_geojson' is not defined",
     "output_type": "error",
     "traceback": [
      "\u001b[1;31m---------------------------------------------------------------------------\u001b[0m",
      "\u001b[1;31mNameError\u001b[0m                                 Traceback (most recent call last)",
      "\u001b[1;32m<ipython-input-6-fb8e787eee6f>\u001b[0m in \u001b[0;36m<module>\u001b[1;34m()\u001b[0m\n\u001b[0;32m      1\u001b[0m \u001b[0mcolors\u001b[0m \u001b[1;33m=\u001b[0m \u001b[1;33m[\u001b[0m\u001b[1;33m]\u001b[0m\u001b[1;33m\u001b[0m\u001b[1;33m\u001b[0m\u001b[0m\n\u001b[1;32m----> 2\u001b[1;33m \u001b[1;32mfor\u001b[0m \u001b[0mfeature\u001b[0m \u001b[1;32min\u001b[0m \u001b[0mcountries_geojson\u001b[0m\u001b[1;33m[\u001b[0m\u001b[1;34m'features'\u001b[0m\u001b[1;33m]\u001b[0m\u001b[1;33m:\u001b[0m\u001b[1;33m\u001b[0m\u001b[1;33m\u001b[0m\u001b[0m\n\u001b[0m\u001b[0;32m      3\u001b[0m     \u001b[0mcountry_name\u001b[0m \u001b[1;33m=\u001b[0m \u001b[0mcoco\u001b[0m\u001b[1;33m.\u001b[0m\u001b[0mconvert\u001b[0m\u001b[1;33m(\u001b[0m\u001b[0mnames\u001b[0m\u001b[1;33m=\u001b[0m\u001b[0mfeature\u001b[0m\u001b[1;33m[\u001b[0m\u001b[1;34m'properties'\u001b[0m\u001b[1;33m]\u001b[0m\u001b[1;33m[\u001b[0m\u001b[1;34m'name'\u001b[0m\u001b[1;33m]\u001b[0m\u001b[1;33m,\u001b[0m \u001b[0mto\u001b[0m\u001b[1;33m=\u001b[0m\u001b[1;34m'name_short'\u001b[0m\u001b[1;33m)\u001b[0m\u001b[1;33m\u001b[0m\u001b[1;33m\u001b[0m\u001b[0m\n\u001b[0;32m      4\u001b[0m     \u001b[1;32mtry\u001b[0m\u001b[1;33m:\u001b[0m\u001b[1;33m\u001b[0m\u001b[1;33m\u001b[0m\u001b[0m\n\u001b[0;32m      5\u001b[0m         \u001b[0mcon\u001b[0m \u001b[1;33m=\u001b[0m \u001b[0mcovid_dict\u001b[0m\u001b[1;33m[\u001b[0m\u001b[1;34m\"Confirmed\"\u001b[0m\u001b[1;33m]\u001b[0m\u001b[1;33m[\u001b[0m\u001b[0mcountry_name\u001b[0m\u001b[1;33m]\u001b[0m\u001b[1;33m\u001b[0m\u001b[1;33m\u001b[0m\u001b[0m\n",
      "\u001b[1;31mNameError\u001b[0m: name 'countries_geojson' is not defined"
     ]
    }
   ],
   "source": [
    "colors = []\n",
    "for feature in countries_geojson['features']:\n",
    "    country_name = coco.convert(names=feature['properties']['name'], to='name_short')\n",
    "    try:\n",
    "        con = covid_dict[\"Confirmed\"][country_name]\n",
    "        color = calculate_color(con)\n",
    "    except KeyError:\n",
    "        # no GINI for that country: return default color\n",
    "        color = (0, 0, 0, 0.3)\n",
    "    colors.append(color)"
   ]
  },
  {
   "cell_type": "code",
   "execution_count": 7,
   "metadata": {
    "scrolled": true
   },
   "outputs": [
    {
     "ename": "NameError",
     "evalue": "name 'sample' is not defined",
     "output_type": "error",
     "traceback": [
      "\u001b[1;31m---------------------------------------------------------------------------\u001b[0m",
      "\u001b[1;31mNameError\u001b[0m                                 Traceback (most recent call last)",
      "\u001b[1;32m<ipython-input-7-cfcbac83814a>\u001b[0m in \u001b[0;36m<module>\u001b[1;34m()\u001b[0m\n\u001b[0;32m      7\u001b[0m \u001b[1;33m<\u001b[0m\u001b[1;33m/\u001b[0m\u001b[0mdl\u001b[0m\u001b[1;33m>\u001b[0m\u001b[1;33m\u001b[0m\u001b[1;33m\u001b[0m\u001b[0m\n\u001b[0;32m      8\u001b[0m \"\"\"\n\u001b[1;32m----> 9\u001b[1;33m \u001b[0msample_info\u001b[0m \u001b[1;33m=\u001b[0m \u001b[1;33m[\u001b[0m\u001b[0minfo_box_template\u001b[0m\u001b[1;33m.\u001b[0m\u001b[0mformat\u001b[0m\u001b[1;33m(\u001b[0m\u001b[1;33m**\u001b[0m\u001b[0mrow\u001b[0m\u001b[1;33m)\u001b[0m \u001b[1;32mfor\u001b[0m \u001b[0mindex\u001b[0m\u001b[1;33m,\u001b[0m \u001b[0mrow\u001b[0m \u001b[1;32min\u001b[0m \u001b[0msample\u001b[0m\u001b[1;33m.\u001b[0m\u001b[0miterrows\u001b[0m\u001b[1;33m(\u001b[0m\u001b[1;33m)\u001b[0m\u001b[1;33m]\u001b[0m\u001b[1;33m\u001b[0m\u001b[1;33m\u001b[0m\u001b[0m\n\u001b[0m\u001b[0;32m     10\u001b[0m \u001b[0msample_locations\u001b[0m \u001b[1;33m=\u001b[0m \u001b[0msample\u001b[0m\u001b[1;33m[\u001b[0m\u001b[1;33m[\u001b[0m\u001b[1;34m\"lat\"\u001b[0m\u001b[1;33m,\u001b[0m \u001b[1;34m\"lng\"\u001b[0m\u001b[1;33m]\u001b[0m\u001b[1;33m]\u001b[0m\u001b[1;33m\u001b[0m\u001b[1;33m\u001b[0m\u001b[0m\n\u001b[0;32m     11\u001b[0m \u001b[0mmarkers\u001b[0m \u001b[1;33m=\u001b[0m \u001b[0mgmaps\u001b[0m\u001b[1;33m.\u001b[0m\u001b[0mmarker_layer\u001b[0m\u001b[1;33m(\u001b[0m\u001b[0msample_locations\u001b[0m\u001b[1;33m,\u001b[0m \u001b[0minfo_box_content\u001b[0m \u001b[1;33m=\u001b[0m \u001b[0msample_info\u001b[0m\u001b[1;33m)\u001b[0m\u001b[1;33m\u001b[0m\u001b[1;33m\u001b[0m\u001b[0m\n",
      "\u001b[1;31mNameError\u001b[0m: name 'sample' is not defined"
     ]
    }
   ],
   "source": [
    "info_box_template = \"\"\"\n",
    "<dl>\n",
    "<dt>Name</dt><dd>{standard_names}</dd>\n",
    "<dt>Confirmed</dt><dd>{Confirmed}</dd>\n",
    "<dt>Population</dt><dd>{Population (2020)}</dd>\n",
    "<dt>Infection rate</dt><dd>{Infection_rate_f}</dd>\n",
    "</dl>\n",
    "\"\"\"\n",
    "sample_info = [info_box_template.format(**row) for index, row in sample.iterrows()]\n",
    "sample_locations = sample[[\"lat\", \"lng\"]]\n",
    "markers = gmaps.marker_layer(sample_locations, info_box_content = sample_info)\n",
    "\n",
    "fig = gmaps.figure(layout={\n",
    "        'border': '1px solid black'\n",
    "})\n",
    "borders = gmaps.geojson_layer(\n",
    "    countries_geojson,\n",
    "    fill_color=colors,\n",
    "    stroke_color=colors,\n",
    "    fill_opacity=0.8)\n",
    "fig.add_layer(borders)\n",
    "fig.add_layer(markers)\n",
    "fig"
   ]
  },
  {
   "cell_type": "code",
   "execution_count": 8,
   "metadata": {},
   "outputs": [],
   "source": [
    "# Export the map in an interactive HTML file\n",
    "# embed_minimal_html(\"Images/Confirmed.html\", views=[fig])"
   ]
  },
  {
   "cell_type": "markdown",
   "metadata": {},
   "source": [
    "# Bar plot"
   ]
  },
  {
   "cell_type": "code",
   "execution_count": 9,
   "metadata": {
    "scrolled": true
   },
   "outputs": [],
   "source": [
    "# # Generate a bar plot showing the total number of measurements taken on each drug regimen using pyplot.\n",
    "# x_axis = np.arange(len(sample))\n",
    "# tick_locations = [value for value in x_axis]\n",
    "\n",
    "# plt.figure(figsize=(30,40))\n",
    "# plt.bar(x_axis, sample[\"Confirmed\"], color='blue', align=\"center\", width = 0.52, zorder = 3)\n",
    "# plt.xticks(tick_locations, list(sample[\"standard_names\"]), rotation=\"vertical\", fontsize= 16)\n",
    "\n",
    "# # Set limits for x & y axes\n",
    "# plt.xlim(-0.55, len(x_axis)-0.45)\n",
    "# plt.ylim(0, max(sample[\"Confirmed\"])*1.05)\n",
    "\n",
    "# # Set labels for axes & title for the chart\n",
    "# plt.title(\"Count of cases for each Country\")\n",
    "# plt.xlabel(\"Countries\")\n",
    "# plt.ylabel(\"Confirmed\")\n",
    "\n",
    "# # Creating and displaying legend\n",
    "# column_name = [\"Confirmed\"]\n",
    "# plt.legend(column_name,loc=\"best\")\n",
    "# plt.grid(zorder=0)\n",
    "\n",
    "# # Display the plot\n",
    "# # plt.savefig(\"Images/bar_chart.png\")\n",
    "\n",
    "# plt.show()"
   ]
  },
  {
   "cell_type": "code",
   "execution_count": 10,
   "metadata": {},
   "outputs": [],
   "source": [
    "# plt.rcdefaults()\n",
    "# fig, ax = plt.subplots(figsize=(40,40))\n",
    "\n",
    "# countries = sample[\"standard_names\"]\n",
    "# y_pos = np.arange(len(countries))\n",
    "# count = sample[\"Confirmed\"]\n",
    "# ax.barh(y_pos, count, align='center', zorder = 3)\n",
    "# ax.set_yticks(y_pos)\n",
    "# ax.set_yticklabels(countries)\n",
    "# ax.invert_yaxis()  # labels read top-to-bottom\n",
    "# ax.set_xlabel('Confirmed', fontsize=50)\n",
    "# ax.set_title('Count of cases for each Country (10m)', fontsize=50)\n",
    "# ax.tick_params(axis='both', which='major', labelsize=20)\n",
    "# ax.grid(alpha = .5 , zorder = 0)\n",
    "# plt.show()"
   ]
  },
  {
   "cell_type": "code",
   "execution_count": 11,
   "metadata": {},
   "outputs": [
    {
     "ename": "NameError",
     "evalue": "name 'sns' is not defined",
     "output_type": "error",
     "traceback": [
      "\u001b[1;31m---------------------------------------------------------------------------\u001b[0m",
      "\u001b[1;31mNameError\u001b[0m                                 Traceback (most recent call last)",
      "\u001b[1;32m<ipython-input-11-b41e5c8ea483>\u001b[0m in \u001b[0;36m<module>\u001b[1;34m()\u001b[0m\n\u001b[0;32m      1\u001b[0m \u001b[0mplt\u001b[0m\u001b[1;33m.\u001b[0m\u001b[0mrcdefaults\u001b[0m\u001b[1;33m(\u001b[0m\u001b[1;33m)\u001b[0m\u001b[1;33m\u001b[0m\u001b[1;33m\u001b[0m\u001b[0m\n\u001b[0;32m      2\u001b[0m \u001b[0mplt\u001b[0m\u001b[1;33m.\u001b[0m\u001b[0mfigure\u001b[0m\u001b[1;33m(\u001b[0m\u001b[0mfigsize\u001b[0m\u001b[1;33m=\u001b[0m\u001b[1;33m(\u001b[0m\u001b[1;36m30\u001b[0m\u001b[1;33m,\u001b[0m\u001b[1;36m15\u001b[0m\u001b[1;33m)\u001b[0m\u001b[1;33m)\u001b[0m\u001b[1;33m\u001b[0m\u001b[1;33m\u001b[0m\u001b[0m\n\u001b[1;32m----> 3\u001b[1;33m \u001b[0max\u001b[0m \u001b[1;33m=\u001b[0m \u001b[0msns\u001b[0m\u001b[1;33m.\u001b[0m\u001b[0mbarplot\u001b[0m\u001b[1;33m(\u001b[0m\u001b[0mx\u001b[0m\u001b[1;33m=\u001b[0m\u001b[1;34m\"Confirmed\"\u001b[0m\u001b[1;33m,\u001b[0m \u001b[0my\u001b[0m\u001b[1;33m=\u001b[0m\u001b[1;34m\"standard_names\"\u001b[0m\u001b[1;33m,\u001b[0m \u001b[0mdata\u001b[0m\u001b[1;33m=\u001b[0m\u001b[0msample\u001b[0m\u001b[1;33m,\u001b[0m \u001b[0mpalette\u001b[0m \u001b[1;33m=\u001b[0m \u001b[1;34m\"muted\"\u001b[0m\u001b[1;33m)\u001b[0m\u001b[1;33m\u001b[0m\u001b[1;33m\u001b[0m\u001b[0m\n\u001b[0m\u001b[0;32m      4\u001b[0m \u001b[0max\u001b[0m\u001b[1;33m.\u001b[0m\u001b[0mset_title\u001b[0m\u001b[1;33m(\u001b[0m\u001b[1;34m'Count of cases for each Country (10m)'\u001b[0m\u001b[1;33m,\u001b[0m \u001b[0mfontsize\u001b[0m\u001b[1;33m=\u001b[0m\u001b[1;36m20\u001b[0m\u001b[1;33m)\u001b[0m\u001b[1;33m\u001b[0m\u001b[1;33m\u001b[0m\u001b[0m\n\u001b[0;32m      5\u001b[0m \u001b[0mplt\u001b[0m\u001b[1;33m.\u001b[0m\u001b[0mxlabel\u001b[0m\u001b[1;33m(\u001b[0m\u001b[1;34m'Confirmed'\u001b[0m\u001b[1;33m,\u001b[0m \u001b[0mfontsize\u001b[0m \u001b[1;33m=\u001b[0m \u001b[1;36m20\u001b[0m\u001b[1;33m)\u001b[0m\u001b[1;33m\u001b[0m\u001b[1;33m\u001b[0m\u001b[0m\n",
      "\u001b[1;31mNameError\u001b[0m: name 'sns' is not defined"
     ]
    },
    {
     "data": {
      "text/plain": [
       "<Figure size 3000x1500 with 0 Axes>"
      ]
     },
     "metadata": {},
     "output_type": "display_data"
    }
   ],
   "source": [
    "plt.rcdefaults()\n",
    "plt.figure(figsize=(30,15))\n",
    "ax = sns.barplot(x=\"Confirmed\", y=\"standard_names\", data=sample, palette = \"muted\")\n",
    "ax.set_title('Count of cases for each Country (10m)', fontsize=20)\n",
    "plt.xlabel('Confirmed', fontsize = 20)\n",
    "plt.ylabel(\"Countries\", fontsize = 20)\n",
    "plt.xticks(fontsize = 20)\n",
    "plt.yticks(fontsize = 20)\n",
    "plt.show()"
   ]
  },
  {
   "cell_type": "markdown",
   "metadata": {},
   "source": [
    "# Line plots and regressions"
   ]
  },
  {
   "cell_type": "code",
   "execution_count": 12,
   "metadata": {},
   "outputs": [],
   "source": [
    "# Define function for calculating linear regression and scatter plot with linear regression plot\n",
    "def linear_regression(x,y,country):\n",
    "    print(f\"The correlation coefficient of {country} is : {np.nan_to_num(round(st.pearsonr(x, y)[0],4))}\")\n",
    "    (slope, intercept, rvalue, pvalue, stderr) = linregress(x, y)\n",
    "    regress_values = x * slope + intercept\n",
    "    line_eq = \"y = \" + str(round(slope,2)) + \"x + \" + str(round(intercept,2))\n",
    "    plt.scatter(x, y, c = \"lightblue\", edgecolor = \"black\")\n",
    "    plt.plot(x,regress_values,\"r-\")\n",
    "    plt.ylabel(\"Infection Rate\")\n",
    "    plt.xlabel(\"Stringency Index\")\n",
    "    plt.grid(alpha = .2)\n",
    "    return line_eq\n",
    "\n",
    "# Define a fuction for annotating\n",
    "def plot_annotate(line_eq, a, b):\n",
    "    plt.annotate(line_eq,(a,b),fontsize=15,color=\"black\")"
   ]
  },
  {
   "cell_type": "code",
   "execution_count": 13,
   "metadata": {},
   "outputs": [],
   "source": [
    "def ln_rg_country(country):\n",
    "    x = ultimate_no_null_df[\"stringency_index\"].loc[ultimate_no_null_df[\"standard_names\"] == country]\n",
    "    y = ultimate_no_null_df[\"Infection_rate\"].loc[ultimate_no_null_df[\"standard_names\"] == country]\\\n",
    "            .str.rstrip('%').astype('float')\n",
    "    a = x.min()\n",
    "    b = y.max()\n",
    "    line_eq = linear_regression(x,y, country)\n",
    "    \n",
    "    plot_annotate(line_eq, a, b)\n",
    "    plt.show()"
   ]
  },
  {
   "cell_type": "code",
   "execution_count": 17,
   "metadata": {},
   "outputs": [],
   "source": [
    "def line_plots(country):    \n",
    "    months = [\"Jan\", \"Feb\", \"Mar\", \"Apr\", \"May\", \"Jun\", \"Jul\", \"Aug\", \"Sep\", \"Oct\", \"Nov\", \"Dec\"]\n",
    "    num_rcd = len(ultimate_no_null_df.loc[ultimate_no_null_df[\"standard_names\"] == country])\n",
    "    x_axis= range(1,num_rcd+1)\n",
    "    tick_locations = [value for value in x_axis]\n",
    "    y1 = ultimate_no_null_df[\"Confirmed\"].loc[ultimate_no_null_df[\"standard_names\"] == country]\n",
    "    y2 = ultimate_no_null_df[\"stringency_index\"].loc[ultimate_no_null_df[\"standard_names\"] == country]\n",
    "    y3 = ultimate_no_null_df[\"Infection_rate\"].loc[ultimate_no_null_df[\"standard_names\"] == country]\\\n",
    "            .str.rstrip('%').astype('float')\n",
    "#     plt.figure(1, figsize=(12,10))\n",
    "#     plt.subplot(311)\n",
    "#     plt.plot(x_axis, y1, color='orange', linewidth=2, markersize=12, label = \"Confirmed\")\n",
    "#     plt.legend(loc='best')\n",
    "#     plt.xlim(0,13)\n",
    "#     plt.xlabel(\"2020\")\n",
    "#     plt.ylabel(\"Confirmed in millions\")\n",
    "#     plt.title(f\"{country} Covid confirmed trend for 2020\")\n",
    "#     plt.xticks(tick_locations, months, rotation=\"vertical\")\n",
    "#     plt.grid()\n",
    "#     plt.subplot(312)\n",
    "#     plt.plot(x_axis, y2, color='blue', linewidth=2, markersize=12, label = \"Stringency\")\n",
    "#     plt.legend(loc='best')\n",
    "#     plt.xlim(0,13)\n",
    "#     plt.ylim(0,100)\n",
    "#     plt.xticks(tick_locations, months, rotation=\"vertical\")\n",
    "#     plt.xlabel(\"2020\")\n",
    "#     plt.ylabel(\"Stringency Index\")\n",
    "#     plt.title(f\"{country} law stringency trend for 2020\")\n",
    "#     plt.grid()\n",
    "#     plt.subplot(313)\n",
    "#     plt.plot(x_axis, y3, color='red', linewidth=2, markersize=12, label = \"Infection rate\")\n",
    "#     plt.legend(loc='best')\n",
    "#     plt.xlim(0,13)\n",
    "#     plt.xticks(tick_locations, months, rotation=\"vertical\")\n",
    "#     plt.xlabel(\"2020\")\n",
    "#     plt.ylabel(\"Infection rate\")\n",
    "#     plt.title(f\"{country} infection rate for 2020\")\n",
    "#     plt.grid()\n",
    "\n",
    "#     plt.tight_layout()\n",
    "#     plt.show()\n",
    "    max_count = y1.max()\n",
    "    plt.rcdefaults()\n",
    "    fig,ax1 = plt.subplots()\n",
    "    plt.grid(alpha = .5, zorder = 0)\n",
    "#     sns.set_palette(\"PuBuGn_d\")\n",
    "    data = ultimate_no_null_df.loc[ultimate_no_null_df[\"standard_names\"] == country]\n",
    "    ax1.set_xlabel(\"Month\", fontsize =16)\n",
    "    \n",
    "#     ax1 = sns.lineplot(x= \"month\", y = \"Confirmed\", data = data , zorder = 3, palette='red')\n",
    "    plt.plot(x_axis, y1, color='orange', linewidth=2, markersize=12, label = \"Confirmed\")\n",
    "    plt.legend(loc='best')\n",
    "    plt.xlim(0,13)\n",
    "    plt.xlabel(\"2020\")\n",
    "    plt.ylabel(\"Confirmed\")\n",
    "    plt.title(f\"{country} Covid confirmed trend for 2020\")\n",
    "    plt.xticks(tick_locations, months[:num_rcd], rotation=\"vertical\")\n",
    "    if max_count >= 1000000:\n",
    "        ax1.set_ylabel(\"Confirmed in millions\", fontsize =16)\n",
    "   \n",
    "        \n",
    "    ax2 = ax1.twinx()\n",
    "#     sns.set_palette(\"pastel\")    \n",
    "#     ax2 = sns.lineplot(x= \"month\", y = \"stringency_index\", data = data , zorder = 3, palette='blue').set_title(f\"Confirmed vs. Stringency Index for {country}\")\n",
    "    plt.plot(x_axis, y2, color='blue', linewidth=2, markersize=12, label = \"Stringency\")\n",
    "    \n",
    "    plt.legend(loc='lower right')\n",
    "    \n",
    "    plt.show()"
   ]
  },
  {
   "cell_type": "code",
   "execution_count": 18,
   "metadata": {},
   "outputs": [
    {
     "ename": "NameError",
     "evalue": "name 'ultimate_no_null_df' is not defined",
     "output_type": "error",
     "traceback": [
      "\u001b[1;31m---------------------------------------------------------------------------\u001b[0m",
      "\u001b[1;31mNameError\u001b[0m                                 Traceback (most recent call last)",
      "\u001b[1;32m<ipython-input-18-4e39ec9fa914>\u001b[0m in \u001b[0;36m<module>\u001b[1;34m()\u001b[0m\n\u001b[1;32m----> 1\u001b[1;33m \u001b[0mline_plots\u001b[0m\u001b[1;33m(\u001b[0m\u001b[1;34m\"Spain\"\u001b[0m\u001b[1;33m)\u001b[0m\u001b[1;33m\u001b[0m\u001b[1;33m\u001b[0m\u001b[0m\n\u001b[0m",
      "\u001b[1;32m<ipython-input-17-b82cf9f73538>\u001b[0m in \u001b[0;36mline_plots\u001b[1;34m(country)\u001b[0m\n\u001b[0;32m      1\u001b[0m \u001b[1;32mdef\u001b[0m \u001b[0mline_plots\u001b[0m\u001b[1;33m(\u001b[0m\u001b[0mcountry\u001b[0m\u001b[1;33m)\u001b[0m\u001b[1;33m:\u001b[0m\u001b[1;33m\u001b[0m\u001b[1;33m\u001b[0m\u001b[0m\n\u001b[0;32m      2\u001b[0m     \u001b[0mmonths\u001b[0m \u001b[1;33m=\u001b[0m \u001b[1;33m[\u001b[0m\u001b[1;34m\"Jan\"\u001b[0m\u001b[1;33m,\u001b[0m \u001b[1;34m\"Feb\"\u001b[0m\u001b[1;33m,\u001b[0m \u001b[1;34m\"Mar\"\u001b[0m\u001b[1;33m,\u001b[0m \u001b[1;34m\"Apr\"\u001b[0m\u001b[1;33m,\u001b[0m \u001b[1;34m\"May\"\u001b[0m\u001b[1;33m,\u001b[0m \u001b[1;34m\"Jun\"\u001b[0m\u001b[1;33m,\u001b[0m \u001b[1;34m\"Jul\"\u001b[0m\u001b[1;33m,\u001b[0m \u001b[1;34m\"Aug\"\u001b[0m\u001b[1;33m,\u001b[0m \u001b[1;34m\"Sep\"\u001b[0m\u001b[1;33m,\u001b[0m \u001b[1;34m\"Oct\"\u001b[0m\u001b[1;33m,\u001b[0m \u001b[1;34m\"Nov\"\u001b[0m\u001b[1;33m,\u001b[0m \u001b[1;34m\"Dec\"\u001b[0m\u001b[1;33m]\u001b[0m\u001b[1;33m\u001b[0m\u001b[1;33m\u001b[0m\u001b[0m\n\u001b[1;32m----> 3\u001b[1;33m     \u001b[0mnum_rcd\u001b[0m \u001b[1;33m=\u001b[0m \u001b[0mlen\u001b[0m\u001b[1;33m(\u001b[0m\u001b[0multimate_no_null_df\u001b[0m\u001b[1;33m.\u001b[0m\u001b[0mloc\u001b[0m\u001b[1;33m[\u001b[0m\u001b[0multimate_no_null_df\u001b[0m\u001b[1;33m[\u001b[0m\u001b[1;34m\"standard_names\"\u001b[0m\u001b[1;33m]\u001b[0m \u001b[1;33m==\u001b[0m \u001b[0mcountry\u001b[0m\u001b[1;33m]\u001b[0m\u001b[1;33m)\u001b[0m\u001b[1;33m\u001b[0m\u001b[1;33m\u001b[0m\u001b[0m\n\u001b[0m\u001b[0;32m      4\u001b[0m     \u001b[0mx_axis\u001b[0m\u001b[1;33m=\u001b[0m \u001b[0mrange\u001b[0m\u001b[1;33m(\u001b[0m\u001b[1;36m1\u001b[0m\u001b[1;33m,\u001b[0m\u001b[0mnum_rcd\u001b[0m\u001b[1;33m+\u001b[0m\u001b[1;36m1\u001b[0m\u001b[1;33m)\u001b[0m\u001b[1;33m\u001b[0m\u001b[1;33m\u001b[0m\u001b[0m\n\u001b[0;32m      5\u001b[0m     \u001b[0mtick_locations\u001b[0m \u001b[1;33m=\u001b[0m \u001b[1;33m[\u001b[0m\u001b[0mvalue\u001b[0m \u001b[1;32mfor\u001b[0m \u001b[0mvalue\u001b[0m \u001b[1;32min\u001b[0m \u001b[0mx_axis\u001b[0m\u001b[1;33m]\u001b[0m\u001b[1;33m\u001b[0m\u001b[1;33m\u001b[0m\u001b[0m\n",
      "\u001b[1;31mNameError\u001b[0m: name 'ultimate_no_null_df' is not defined"
     ]
    }
   ],
   "source": [
    "line_plots(\"Spain\")"
   ]
  },
  {
   "cell_type": "code",
   "execution_count": 19,
   "metadata": {},
   "outputs": [
    {
     "ename": "NameError",
     "evalue": "name 'ultimate_no_null_df' is not defined",
     "output_type": "error",
     "traceback": [
      "\u001b[1;31m---------------------------------------------------------------------------\u001b[0m",
      "\u001b[1;31mNameError\u001b[0m                                 Traceback (most recent call last)",
      "\u001b[1;32m<ipython-input-19-b20ff78c4e8d>\u001b[0m in \u001b[0;36m<module>\u001b[1;34m()\u001b[0m\n\u001b[1;32m----> 1\u001b[1;33m \u001b[0mln_rg_country\u001b[0m\u001b[1;33m(\u001b[0m\u001b[1;34m\"Spain\"\u001b[0m\u001b[1;33m)\u001b[0m\u001b[1;33m\u001b[0m\u001b[1;33m\u001b[0m\u001b[0m\n\u001b[0m",
      "\u001b[1;32m<ipython-input-13-649d32da0f5c>\u001b[0m in \u001b[0;36mln_rg_country\u001b[1;34m(country)\u001b[0m\n\u001b[0;32m      1\u001b[0m \u001b[1;32mdef\u001b[0m \u001b[0mln_rg_country\u001b[0m\u001b[1;33m(\u001b[0m\u001b[0mcountry\u001b[0m\u001b[1;33m)\u001b[0m\u001b[1;33m:\u001b[0m\u001b[1;33m\u001b[0m\u001b[1;33m\u001b[0m\u001b[0m\n\u001b[1;32m----> 2\u001b[1;33m     \u001b[0mx\u001b[0m \u001b[1;33m=\u001b[0m \u001b[0multimate_no_null_df\u001b[0m\u001b[1;33m[\u001b[0m\u001b[1;34m\"stringency_index\"\u001b[0m\u001b[1;33m]\u001b[0m\u001b[1;33m.\u001b[0m\u001b[0mloc\u001b[0m\u001b[1;33m[\u001b[0m\u001b[0multimate_no_null_df\u001b[0m\u001b[1;33m[\u001b[0m\u001b[1;34m\"standard_names\"\u001b[0m\u001b[1;33m]\u001b[0m \u001b[1;33m==\u001b[0m \u001b[0mcountry\u001b[0m\u001b[1;33m]\u001b[0m\u001b[1;33m\u001b[0m\u001b[1;33m\u001b[0m\u001b[0m\n\u001b[0m\u001b[0;32m      3\u001b[0m     \u001b[0my\u001b[0m \u001b[1;33m=\u001b[0m \u001b[0multimate_no_null_df\u001b[0m\u001b[1;33m[\u001b[0m\u001b[1;34m\"Infection_rate\"\u001b[0m\u001b[1;33m]\u001b[0m\u001b[1;33m.\u001b[0m\u001b[0mloc\u001b[0m\u001b[1;33m[\u001b[0m\u001b[0multimate_no_null_df\u001b[0m\u001b[1;33m[\u001b[0m\u001b[1;34m\"standard_names\"\u001b[0m\u001b[1;33m]\u001b[0m \u001b[1;33m==\u001b[0m \u001b[0mcountry\u001b[0m\u001b[1;33m]\u001b[0m            \u001b[1;33m.\u001b[0m\u001b[0mstr\u001b[0m\u001b[1;33m.\u001b[0m\u001b[0mrstrip\u001b[0m\u001b[1;33m(\u001b[0m\u001b[1;34m'%'\u001b[0m\u001b[1;33m)\u001b[0m\u001b[1;33m.\u001b[0m\u001b[0mastype\u001b[0m\u001b[1;33m(\u001b[0m\u001b[1;34m'float'\u001b[0m\u001b[1;33m)\u001b[0m\u001b[1;33m\u001b[0m\u001b[1;33m\u001b[0m\u001b[0m\n\u001b[0;32m      4\u001b[0m     \u001b[0ma\u001b[0m \u001b[1;33m=\u001b[0m \u001b[0mx\u001b[0m\u001b[1;33m.\u001b[0m\u001b[0mmin\u001b[0m\u001b[1;33m(\u001b[0m\u001b[1;33m)\u001b[0m\u001b[1;33m\u001b[0m\u001b[1;33m\u001b[0m\u001b[0m\n\u001b[0;32m      5\u001b[0m     \u001b[0mb\u001b[0m \u001b[1;33m=\u001b[0m \u001b[0my\u001b[0m\u001b[1;33m.\u001b[0m\u001b[0mmax\u001b[0m\u001b[1;33m(\u001b[0m\u001b[1;33m)\u001b[0m\u001b[1;33m\u001b[0m\u001b[1;33m\u001b[0m\u001b[0m\n",
      "\u001b[1;31mNameError\u001b[0m: name 'ultimate_no_null_df' is not defined"
     ]
    }
   ],
   "source": [
    "ln_rg_country(\"Spain\")"
   ]
  },
  {
   "cell_type": "markdown",
   "metadata": {},
   "source": [
    "# Correlation coefficients"
   ]
  },
  {
   "cell_type": "code",
   "execution_count": 20,
   "metadata": {},
   "outputs": [
    {
     "ename": "NameError",
     "evalue": "name 'ultimate_no_null_df' is not defined",
     "output_type": "error",
     "traceback": [
      "\u001b[1;31m---------------------------------------------------------------------------\u001b[0m",
      "\u001b[1;31mNameError\u001b[0m                                 Traceback (most recent call last)",
      "\u001b[1;32m<ipython-input-20-a3d43e115f90>\u001b[0m in \u001b[0;36m<module>\u001b[1;34m()\u001b[0m\n\u001b[1;32m----> 1\u001b[1;33m \u001b[0mcountry\u001b[0m \u001b[1;33m=\u001b[0m \u001b[0mlist\u001b[0m\u001b[1;33m(\u001b[0m\u001b[0mset\u001b[0m\u001b[1;33m(\u001b[0m\u001b[0multimate_no_null_df\u001b[0m\u001b[1;33m[\u001b[0m\u001b[1;34m\"standard_names\"\u001b[0m\u001b[1;33m]\u001b[0m\u001b[1;33m)\u001b[0m\u001b[1;33m)\u001b[0m\u001b[1;33m\u001b[0m\u001b[1;33m\u001b[0m\u001b[0m\n\u001b[0m\u001b[0;32m      2\u001b[0m \u001b[0mcountry\u001b[0m\u001b[1;33m.\u001b[0m\u001b[0msort\u001b[0m\u001b[1;33m(\u001b[0m\u001b[1;33m)\u001b[0m\u001b[1;33m\u001b[0m\u001b[1;33m\u001b[0m\u001b[0m\n\u001b[0;32m      3\u001b[0m \u001b[0mcorrcoef\u001b[0m \u001b[1;33m=\u001b[0m \u001b[1;33m[\u001b[0m\u001b[1;33m]\u001b[0m\u001b[1;33m\u001b[0m\u001b[1;33m\u001b[0m\u001b[0m\n\u001b[0;32m      4\u001b[0m \u001b[0mp_value\u001b[0m \u001b[1;33m=\u001b[0m \u001b[1;33m[\u001b[0m\u001b[1;33m]\u001b[0m\u001b[1;33m\u001b[0m\u001b[1;33m\u001b[0m\u001b[0m\n\u001b[0;32m      5\u001b[0m \u001b[0mr_value\u001b[0m \u001b[1;33m=\u001b[0m \u001b[1;33m[\u001b[0m\u001b[1;33m]\u001b[0m\u001b[1;33m\u001b[0m\u001b[1;33m\u001b[0m\u001b[0m\n",
      "\u001b[1;31mNameError\u001b[0m: name 'ultimate_no_null_df' is not defined"
     ]
    }
   ],
   "source": [
    "country = list(set(ultimate_no_null_df[\"standard_names\"]))\n",
    "country.sort()\n",
    "corrcoef = []\n",
    "p_value = []\n",
    "r_value = []\n",
    "\n",
    "for name in range(len(country)):\n",
    "    x = ultimate_no_null_df[\"stringency_index\"].loc[ultimate_no_null_df[\"standard_names\"] == country[name]]\n",
    "    y = ultimate_no_null_df[\"Infection_rate\"].loc[ultimate_no_null_df[\"standard_names\"] == country[name]]\\\n",
    "            .str.rstrip('%').astype('float')\n",
    "    corrcoef.append(round(st.pearsonr(x, y)[0],4))\n",
    "    (slope, intercept, rvalue, pvalue, stderr) = linregress(x, y)\n",
    "    p_value.append(pvalue)\n",
    "    r_value.append(rvalue)\n",
    "    \n",
    "country_r_value_df = pd.DataFrame({\"standard_names\" : country,\n",
    "                                  \"corrcoef\" : corrcoef,\n",
    "                                  \"p_value\" : p_value,\n",
    "                                  \"r_value\" : r_value})\n",
    "country_r_value_df.head(-5)"
   ]
  },
  {
   "cell_type": "code",
   "execution_count": 21,
   "metadata": {},
   "outputs": [
    {
     "ename": "NameError",
     "evalue": "name 'ultimate_no_null_df' is not defined",
     "output_type": "error",
     "traceback": [
      "\u001b[1;31m---------------------------------------------------------------------------\u001b[0m",
      "\u001b[1;31mNameError\u001b[0m                                 Traceback (most recent call last)",
      "\u001b[1;32m<ipython-input-21-94efd4e4391c>\u001b[0m in \u001b[0;36m<module>\u001b[1;34m()\u001b[0m\n\u001b[1;32m----> 1\u001b[1;33m \u001b[0mx\u001b[0m \u001b[1;33m=\u001b[0m \u001b[0multimate_no_null_df\u001b[0m\u001b[1;33m[\u001b[0m\u001b[1;34m\"stringency_index\"\u001b[0m\u001b[1;33m]\u001b[0m\u001b[1;33m.\u001b[0m\u001b[0mloc\u001b[0m\u001b[1;33m[\u001b[0m\u001b[0multimate_no_null_df\u001b[0m\u001b[1;33m[\u001b[0m\u001b[1;34m\"standard_names\"\u001b[0m\u001b[1;33m]\u001b[0m \u001b[1;33m==\u001b[0m \u001b[1;34m\"India\"\u001b[0m\u001b[1;33m]\u001b[0m\u001b[1;33m\u001b[0m\u001b[1;33m\u001b[0m\u001b[0m\n\u001b[0m\u001b[0;32m      2\u001b[0m \u001b[0my\u001b[0m \u001b[1;33m=\u001b[0m \u001b[0multimate_no_null_df\u001b[0m\u001b[1;33m[\u001b[0m\u001b[1;34m\"Infection_rate\"\u001b[0m\u001b[1;33m]\u001b[0m\u001b[1;33m.\u001b[0m\u001b[0mloc\u001b[0m\u001b[1;33m[\u001b[0m\u001b[0multimate_no_null_df\u001b[0m\u001b[1;33m[\u001b[0m\u001b[1;34m\"standard_names\"\u001b[0m\u001b[1;33m]\u001b[0m \u001b[1;33m==\u001b[0m \u001b[1;34m\"India\"\u001b[0m\u001b[1;33m]\u001b[0m        \u001b[1;33m.\u001b[0m\u001b[0mstr\u001b[0m\u001b[1;33m.\u001b[0m\u001b[0mrstrip\u001b[0m\u001b[1;33m(\u001b[0m\u001b[1;34m'%'\u001b[0m\u001b[1;33m)\u001b[0m\u001b[1;33m.\u001b[0m\u001b[0mastype\u001b[0m\u001b[1;33m(\u001b[0m\u001b[1;34m'float'\u001b[0m\u001b[1;33m)\u001b[0m\u001b[1;33m\u001b[0m\u001b[1;33m\u001b[0m\u001b[0m\n\u001b[0;32m      3\u001b[0m \u001b[0mprint\u001b[0m\u001b[1;33m(\u001b[0m\u001b[0mround\u001b[0m\u001b[1;33m(\u001b[0m\u001b[0mst\u001b[0m\u001b[1;33m.\u001b[0m\u001b[0mpearsonr\u001b[0m\u001b[1;33m(\u001b[0m\u001b[0mx\u001b[0m\u001b[1;33m,\u001b[0m \u001b[0my\u001b[0m\u001b[1;33m)\u001b[0m\u001b[1;33m[\u001b[0m\u001b[1;36m0\u001b[0m\u001b[1;33m]\u001b[0m\u001b[1;33m,\u001b[0m\u001b[1;36m2\u001b[0m\u001b[1;33m)\u001b[0m\u001b[1;33m)\u001b[0m\u001b[1;33m\u001b[0m\u001b[1;33m\u001b[0m\u001b[0m\n\u001b[0;32m      4\u001b[0m \u001b[0mprint\u001b[0m\u001b[1;33m(\u001b[0m\u001b[0mround\u001b[0m\u001b[1;33m(\u001b[0m\u001b[0mst\u001b[0m\u001b[1;33m.\u001b[0m\u001b[0mpearsonr\u001b[0m\u001b[1;33m(\u001b[0m\u001b[0mx\u001b[0m\u001b[1;33m,\u001b[0m \u001b[0my\u001b[0m\u001b[1;33m)\u001b[0m\u001b[1;33m[\u001b[0m\u001b[1;36m1\u001b[0m\u001b[1;33m]\u001b[0m\u001b[1;33m,\u001b[0m\u001b[1;36m2\u001b[0m\u001b[1;33m)\u001b[0m\u001b[1;33m)\u001b[0m\u001b[1;33m\u001b[0m\u001b[1;33m\u001b[0m\u001b[0m\n\u001b[0;32m      5\u001b[0m \u001b[0mprint\u001b[0m\u001b[1;33m(\u001b[0m\u001b[0mround\u001b[0m\u001b[1;33m(\u001b[0m\u001b[0mnp\u001b[0m\u001b[1;33m.\u001b[0m\u001b[0mcorrcoef\u001b[0m\u001b[1;33m(\u001b[0m\u001b[0mx\u001b[0m\u001b[1;33m,\u001b[0m\u001b[0my\u001b[0m\u001b[1;33m)\u001b[0m\u001b[1;33m[\u001b[0m\u001b[1;36m0\u001b[0m\u001b[1;33m]\u001b[0m\u001b[1;33m[\u001b[0m\u001b[1;36m1\u001b[0m\u001b[1;33m]\u001b[0m\u001b[1;33m,\u001b[0m\u001b[1;36m2\u001b[0m\u001b[1;33m)\u001b[0m\u001b[1;33m)\u001b[0m\u001b[1;33m\u001b[0m\u001b[1;33m\u001b[0m\u001b[0m\n",
      "\u001b[1;31mNameError\u001b[0m: name 'ultimate_no_null_df' is not defined"
     ]
    }
   ],
   "source": [
    "x = ultimate_no_null_df[\"stringency_index\"].loc[ultimate_no_null_df[\"standard_names\"] == \"India\"]\n",
    "y = ultimate_no_null_df[\"Infection_rate\"].loc[ultimate_no_null_df[\"standard_names\"] == \"India\"]\\\n",
    "        .str.rstrip('%').astype('float')\n",
    "print(round(st.pearsonr(x, y)[0],2))\n",
    "print(round(st.pearsonr(x, y)[1],2))\n",
    "print(round(np.corrcoef(x,y)[0][1],2))"
   ]
  },
  {
   "cell_type": "code",
   "execution_count": null,
   "metadata": {
    "scrolled": false
   },
   "outputs": [],
   "source": [
    "# Generate a bar plot showing the total number of measurements taken on each drug regimen using pyplot.\n",
    "x_axis = np.arange(len(country_r_value_df))\n",
    "tick_locations = [value for value in x_axis]\n",
    "\n",
    "plt.figure(figsize=(55,30))\n",
    "\n",
    "sns.barplot(x= \"standard_names\", y = \"corrcoef\", data = country_r_value_df, palette = \"muted\" , zorder = 3)\n",
    "# plt.bar(x_axis, country_r_value_df[\"corrcoef\"], color='blue', align=\"center\", width = 0.52, zorder = 3)\n",
    "plt.xticks(tick_locations, country, rotation=\"vertical\" , fontsize =20)\n",
    "\n",
    "# Set limits for x & y axes\n",
    "# plt.xlim(-0.55, len(x_axis)-0.45)\n",
    "# plt.ylim(0, max(country_r_value_df[\"corrcoef\"])*1.05)\n",
    "\n",
    "# Set labels for axes & title for the chart\n",
    "plt.title(\"Correlation coefficient between infection and stringency for each country\", fontsize =40)\n",
    "plt.xlabel(\"Country\", fontsize =40)\n",
    "plt.ylabel(\"Corrcoef value\", fontsize =40)\n",
    "\n",
    "# Creating and displaying legend\n",
    "column_name = [\"Corrrelation coefficient value\"]\n",
    "plt.legend(column_name,loc=\"best\")\n",
    "plt.grid(zorder=0)\n",
    "plt.yticks(fontsize = 40)\n",
    "# Display the plot\n",
    "# plt.savefig(\"Images/bar_chart.png\")\n",
    "plt.show()"
   ]
  },
  {
   "cell_type": "code",
   "execution_count": null,
   "metadata": {},
   "outputs": [],
   "source": [
    "def colors_from_values(values, palette_name):\n",
    "    # normalize the values to range [0, 1]\n",
    "    normalized = (values - min(values)) / (max(values) - min(values))\n",
    "    # convert to indices\n",
    "    indices = np.round(normalized * (len(values) - 1)).astype(np.int32)\n",
    "    # use the indices to get the colors\n",
    "    palette = sns.color_palette(palette_name, len(values))\n",
    "    return np.array(palette).take(indices, axis=0)"
   ]
  },
  {
   "cell_type": "code",
   "execution_count": 22,
   "metadata": {
    "scrolled": true
   },
   "outputs": [
    {
     "ename": "NameError",
     "evalue": "name 'sample' is not defined",
     "output_type": "error",
     "traceback": [
      "\u001b[1;31m---------------------------------------------------------------------------\u001b[0m",
      "\u001b[1;31mNameError\u001b[0m                                 Traceback (most recent call last)",
      "\u001b[1;32m<ipython-input-22-1703f91fdbae>\u001b[0m in \u001b[0;36m<module>\u001b[1;34m()\u001b[0m\n\u001b[1;32m----> 1\u001b[1;33m \u001b[1;32mfor\u001b[0m \u001b[0mi\u001b[0m \u001b[1;32min\u001b[0m \u001b[0mrange\u001b[0m\u001b[1;33m(\u001b[0m\u001b[0mlen\u001b[0m\u001b[1;33m(\u001b[0m\u001b[0msample\u001b[0m\u001b[1;33m)\u001b[0m\u001b[1;33m)\u001b[0m\u001b[1;33m:\u001b[0m\u001b[1;33m\u001b[0m\u001b[1;33m\u001b[0m\u001b[0m\n\u001b[0m\u001b[0;32m      2\u001b[0m     \u001b[0mcountry\u001b[0m \u001b[1;33m=\u001b[0m \u001b[0msample\u001b[0m\u001b[1;33m.\u001b[0m\u001b[0miloc\u001b[0m\u001b[1;33m[\u001b[0m\u001b[0mi\u001b[0m\u001b[1;33m,\u001b[0m\u001b[1;36m0\u001b[0m\u001b[1;33m]\u001b[0m\u001b[1;33m\u001b[0m\u001b[1;33m\u001b[0m\u001b[0m\n\u001b[0;32m      3\u001b[0m     \u001b[0mdata\u001b[0m \u001b[1;33m=\u001b[0m \u001b[0multimate_no_null_df\u001b[0m\u001b[1;33m.\u001b[0m\u001b[0mloc\u001b[0m\u001b[1;33m[\u001b[0m\u001b[0multimate_no_null_df\u001b[0m\u001b[1;33m[\u001b[0m\u001b[1;34m\"standard_names\"\u001b[0m\u001b[1;33m]\u001b[0m \u001b[1;33m==\u001b[0m \u001b[0mcountry\u001b[0m\u001b[1;33m]\u001b[0m\u001b[1;33m\u001b[0m\u001b[1;33m\u001b[0m\u001b[0m\n\u001b[0;32m      4\u001b[0m     \u001b[0mmax_count\u001b[0m \u001b[1;33m=\u001b[0m \u001b[0mdata\u001b[0m\u001b[1;33m[\u001b[0m\u001b[1;34m\"Confirmed\"\u001b[0m\u001b[1;33m]\u001b[0m\u001b[1;33m.\u001b[0m\u001b[0mmax\u001b[0m\u001b[1;33m(\u001b[0m\u001b[1;33m)\u001b[0m\u001b[1;33m\u001b[0m\u001b[1;33m\u001b[0m\u001b[0m\n\u001b[0;32m      5\u001b[0m     \u001b[0mplt\u001b[0m\u001b[1;33m.\u001b[0m\u001b[0mrcdefaults\u001b[0m\u001b[1;33m(\u001b[0m\u001b[1;33m)\u001b[0m\u001b[1;33m\u001b[0m\u001b[1;33m\u001b[0m\u001b[0m\n",
      "\u001b[1;31mNameError\u001b[0m: name 'sample' is not defined"
     ]
    }
   ],
   "source": [
    "for i in range(len(sample)):\n",
    "    country = sample.iloc[i,0]\n",
    "    data = ultimate_no_null_df.loc[ultimate_no_null_df[\"standard_names\"] == country]\n",
    "    max_count = data[\"Confirmed\"].max()\n",
    "    plt.rcdefaults()\n",
    "    fig,ax1 = plt.subplots()\n",
    "    plt.grid(alpha = .5, zorder = 0)\n",
    "    color = \"tab:green\"\n",
    "    \n",
    "    ax1.set_xlabel(\"Month\", fontsize =16)\n",
    "    qualitative_colors = sns.color_palette(\"YlOrRd\", 12)\n",
    "    ax1 = sns.barplot(x= \"month\", y = \"Confirmed\", data = data, palette = colors_from_values(data[\"Confirmed\"], \"YlOrRd\") , zorder = 3)\n",
    "#\n",
    "    if max_count >= 1000000:\n",
    "        ax1.set_ylabel(\"Confirmed in millions\", fontsize =16)\n",
    "   \n",
    "        \n",
    "    ax2 = ax1.twinx()\n",
    "    color = \"tab:red\"\n",
    "    \n",
    "    ax2 = sns.lineplot(x= \"month\", y = \"stringency_index\", data = data , zorder = 3).set_title(f\"Confirmed vs. Stringency Index for {country}\")\n",
    "    \n",
    "    \n",
    "    plt.show()"
   ]
  },
  {
   "cell_type": "code",
   "execution_count": null,
   "metadata": {
    "scrolled": true
   },
   "outputs": [],
   "source": [
    "for i in range(len(sample)):\n",
    "    country = sample.iloc[i,0]\n",
    "    line_plots(country)\n",
    "    ln_rg_country(country)"
   ]
  },
  {
   "cell_type": "code",
   "execution_count": null,
   "metadata": {},
   "outputs": [],
   "source": []
  },
  {
   "cell_type": "code",
   "execution_count": null,
   "metadata": {},
   "outputs": [],
   "source": []
  },
  {
   "cell_type": "code",
   "execution_count": null,
   "metadata": {},
   "outputs": [],
   "source": []
  },
  {
   "cell_type": "code",
   "execution_count": null,
   "metadata": {},
   "outputs": [],
   "source": []
  },
  {
   "cell_type": "code",
   "execution_count": null,
   "metadata": {},
   "outputs": [],
   "source": []
  },
  {
   "cell_type": "code",
   "execution_count": null,
   "metadata": {},
   "outputs": [],
   "source": []
  },
  {
   "cell_type": "code",
   "execution_count": null,
   "metadata": {},
   "outputs": [],
   "source": []
  },
  {
   "cell_type": "code",
   "execution_count": null,
   "metadata": {},
   "outputs": [],
   "source": []
  },
  {
   "cell_type": "code",
   "execution_count": null,
   "metadata": {},
   "outputs": [],
   "source": []
  },
  {
   "cell_type": "code",
   "execution_count": null,
   "metadata": {},
   "outputs": [],
   "source": []
  }
 ],
 "metadata": {
  "kernelspec": {
   "display_name": "Python 3",
   "language": "python",
   "name": "python3"
  },
  "language_info": {
   "codemirror_mode": {
    "name": "ipython",
    "version": 3
   },
   "file_extension": ".py",
   "mimetype": "text/x-python",
   "name": "python",
   "nbconvert_exporter": "python",
   "pygments_lexer": "ipython3",
   "version": "3.7.9"
  }
 },
 "nbformat": 4,
 "nbformat_minor": 4
}
